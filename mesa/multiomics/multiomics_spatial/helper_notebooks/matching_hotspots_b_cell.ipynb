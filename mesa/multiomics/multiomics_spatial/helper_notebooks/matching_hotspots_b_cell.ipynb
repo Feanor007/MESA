{
 "cells": [
  {
   "cell_type": "code",
   "execution_count": 1,
   "id": "074aa3cc",
   "metadata": {},
   "outputs": [],
   "source": [
    "import os\n",
    "import re\n",
    "import math\n",
    "import numpy as np\n",
    "import pandas as pd\n",
    "from scipy import stats\n",
    "from typing import Union\n",
    "import matplotlib.pyplot as plt\n",
    "from matplotlib.figure import figaspect\n",
    "import anndata as ad\n",
    "import scanpy as sc\n",
    "import seaborn as sns\n",
    "from sklearn.neighbors import NearestNeighbors\n",
    "from sklearn.cluster import KMeans\n",
    "from tqdm import tqdm "
   ]
  },
  {
   "cell_type": "code",
   "execution_count": 2,
   "id": "c241df19",
   "metadata": {},
   "outputs": [],
   "source": [
    "import warnings\n",
    "warnings.filterwarnings('ignore')"
   ]
  },
  {
   "cell_type": "markdown",
   "id": "8175beae",
   "metadata": {},
   "source": [
    "# Load data"
   ]
  },
  {
   "cell_type": "code",
   "execution_count": 3,
   "id": "a835ee11",
   "metadata": {},
   "outputs": [],
   "source": [
    "# read in protein data\n",
    "data_dir = './../../../neighborhood/CRC_related/'\n",
    "results_dir = './results_crc'\n",
    "protein = pd.read_csv(os.path.join(data_dir, 'crc_codex/CRC_clusters_neighborhoods_markersV2.csv')) # ~258,000 codex cells"
   ]
  },
  {
   "cell_type": "code",
   "execution_count": 5,
   "id": "611f0748",
   "metadata": {},
   "outputs": [],
   "source": [
    "protein_new = protein[protein['ClusterName'] != 'tumor cells']\n",
    "\n",
    "di = {'macrophages': \"Macro\", 'smooth muscle': \"SmoothMuscle\", 'granulocytes': \"Granulo\",\n",
    "      'stroma': \"Fibro\", 'B cells': \"B\", 'CD4+ T cells': \"TCD4\", 'CD8+ T cells': \"TCD8\", 'plasma cells': \"Plasma\",\n",
    "      'CD68+ macrophages': \"Macro\", 'CD11b+ monocytes': \"Mono\", 'CD11c+ DCs': \"DC\", 'NK cells': \"NK\",\n",
    "     'remove': \"remove\", 'vasculature': \"Endo\", 'immune cells': \"Other\", 'Other T cells': \"Other\", # remove or need to change\n",
    "     'immune cells / vasculature': \"Other\", 'adipocytes': \"Other\",\n",
    "      'tumor cells / immune cells': \"Other\",  'nerves': \"Other\", 'lymphatics': \"Other\"}\n",
    "\n",
    "protein_new['ClusterNameV3'] = protein_new['ClusterNameV2'].map(di)\n",
    "protein_new = protein_new[protein_new['ClusterNameV3'] != 'remove']"
   ]
  },
  {
   "cell_type": "code",
   "execution_count": 6,
   "id": "ddf3bfa9",
   "metadata": {},
   "outputs": [],
   "source": [
    "protein_b = protein_new[protein_new['ClusterNameV3'] == 'B']"
   ]
  },
  {
   "cell_type": "code",
   "execution_count": 7,
   "id": "8b858ac6",
   "metadata": {},
   "outputs": [
    {
     "data": {
      "text/plain": [
       "(13043, 102)"
      ]
     },
     "execution_count": 7,
     "metadata": {},
     "output_type": "execute_result"
    }
   ],
   "source": [
    "protein_b.shape"
   ]
  },
  {
   "cell_type": "code",
   "execution_count": 15,
   "id": "9488f790",
   "metadata": {},
   "outputs": [],
   "source": [
    "rna_adata = ad.read(os.path.join(data_dir, './hacohen_scrna/data/rna_processed_bcell_0307.h5'))"
   ]
  },
  {
   "cell_type": "code",
   "execution_count": 16,
   "id": "fc0a3a90",
   "metadata": {},
   "outputs": [
    {
     "data": {
      "text/plain": [
       "AnnData object with n_obs × n_vars = 13543 × 43113\n",
       "    var: 'gene_ids', 'feature_types', 'genome'"
      ]
     },
     "execution_count": 16,
     "metadata": {},
     "output_type": "execute_result"
    }
   ],
   "source": [
    "rna_adata"
   ]
  },
  {
   "cell_type": "code",
   "execution_count": 17,
   "id": "e95b97ad",
   "metadata": {},
   "outputs": [],
   "source": [
    "sc.pp.normalize_total(rna_adata)\n",
    "sc.pp.log1p(rna_adata)\n",
    "sc.pp.highly_variable_genes(rna_adata, n_top_genes=2000)\n",
    "\n",
    "rna_adata_2k = rna_adata[:, rna_adata.var.highly_variable].copy()\n",
    "rna_adata_2k_df = pd.DataFrame(rna_adata_2k.X.toarray(), columns=rna_adata_2k.var_names)"
   ]
  },
  {
   "cell_type": "code",
   "execution_count": 20,
   "id": "8fde30db",
   "metadata": {},
   "outputs": [
    {
     "data": {
      "text/plain": [
       "(10526, 3)"
      ]
     },
     "execution_count": 20,
     "metadata": {},
     "output_type": "execute_result"
    }
   ],
   "source": [
    "matching = pd.read_csv('./../../multiomics_spatial/multiomics_fusion/results/crc_codex_rna_b_cell_0307.csv', index_col=False)\n",
    "matching.shape"
   ]
  },
  {
   "cell_type": "code",
   "execution_count": 21,
   "id": "5aa70f26",
   "metadata": {},
   "outputs": [
    {
     "data": {
      "text/plain": [
       "13040"
      ]
     },
     "execution_count": 21,
     "metadata": {},
     "output_type": "execute_result"
    }
   ],
   "source": [
    "np.max(matching['mod2_indx'])"
   ]
  },
  {
   "cell_type": "code",
   "execution_count": 22,
   "id": "8606aa47",
   "metadata": {},
   "outputs": [
    {
     "data": {
      "text/plain": [
       "13541"
      ]
     },
     "execution_count": 22,
     "metadata": {},
     "output_type": "execute_result"
    }
   ],
   "source": [
    "np.max(matching['mod1_indx'])"
   ]
  },
  {
   "cell_type": "code",
   "execution_count": 27,
   "id": "b7efd336",
   "metadata": {},
   "outputs": [],
   "source": [
    "protein_new = protein_b"
   ]
  },
  {
   "cell_type": "code",
   "execution_count": 28,
   "id": "99d4e143",
   "metadata": {},
   "outputs": [],
   "source": [
    "protein_new = protein_new.reset_index()"
   ]
  },
  {
   "cell_type": "code",
   "execution_count": 29,
   "id": "528854db",
   "metadata": {},
   "outputs": [],
   "source": [
    "protein_new['mod2_indx'] = protein_new.index"
   ]
  },
  {
   "cell_type": "code",
   "execution_count": 31,
   "id": "17d8c139",
   "metadata": {},
   "outputs": [],
   "source": [
    "protein_rna = protein_new.reset_index() \\\n",
    "                .merge(matching, on='mod2_indx', how='left') \\\n",
    "                .merge(rna_adata_2k_df.reset_index().rename(columns={'index': 'mod1_indx'}), on='mod1_indx', how='left')"
   ]
  },
  {
   "cell_type": "code",
   "execution_count": 32,
   "id": "d3ad5b67",
   "metadata": {},
   "outputs": [
    {
     "data": {
      "text/html": [
       "<div>\n",
       "<style scoped>\n",
       "    .dataframe tbody tr th:only-of-type {\n",
       "        vertical-align: middle;\n",
       "    }\n",
       "\n",
       "    .dataframe tbody tr th {\n",
       "        vertical-align: top;\n",
       "    }\n",
       "\n",
       "    .dataframe thead th {\n",
       "        text-align: right;\n",
       "    }\n",
       "</style>\n",
       "<table border=\"1\" class=\"dataframe\">\n",
       "  <thead>\n",
       "    <tr style=\"text-align: right;\">\n",
       "      <th></th>\n",
       "      <th>level_0</th>\n",
       "      <th>index</th>\n",
       "      <th>Unnamed: 0.1</th>\n",
       "      <th>Unnamed: 0</th>\n",
       "      <th>CellID</th>\n",
       "      <th>ClusterID</th>\n",
       "      <th>EventID</th>\n",
       "      <th>File Name</th>\n",
       "      <th>Region</th>\n",
       "      <th>TMA_AB</th>\n",
       "      <th>...</th>\n",
       "      <th>MT-CO2</th>\n",
       "      <th>MT-ATP6</th>\n",
       "      <th>MT-CO3</th>\n",
       "      <th>MT-ND3</th>\n",
       "      <th>MT-ND4</th>\n",
       "      <th>MT-TH</th>\n",
       "      <th>MT-TE</th>\n",
       "      <th>MT-CYB</th>\n",
       "      <th>MT-TP</th>\n",
       "      <th>CH507-154B10.2</th>\n",
       "    </tr>\n",
       "  </thead>\n",
       "  <tbody>\n",
       "    <tr>\n",
       "      <th>0</th>\n",
       "      <td>0</td>\n",
       "      <td>197714</td>\n",
       "      <td>197714</td>\n",
       "      <td>197714</td>\n",
       "      <td>197714</td>\n",
       "      <td>10679</td>\n",
       "      <td>168</td>\n",
       "      <td>reg001_A</td>\n",
       "      <td>reg001</td>\n",
       "      <td>A</td>\n",
       "      <td>...</td>\n",
       "      <td>4.047706</td>\n",
       "      <td>3.313389</td>\n",
       "      <td>2.864985</td>\n",
       "      <td>2.864985</td>\n",
       "      <td>3.529227</td>\n",
       "      <td>0.0</td>\n",
       "      <td>0.0</td>\n",
       "      <td>3.185043</td>\n",
       "      <td>0.0</td>\n",
       "      <td>0.0</td>\n",
       "    </tr>\n",
       "    <tr>\n",
       "      <th>1</th>\n",
       "      <td>1</td>\n",
       "      <td>197715</td>\n",
       "      <td>197715</td>\n",
       "      <td>197715</td>\n",
       "      <td>197715</td>\n",
       "      <td>10679</td>\n",
       "      <td>307</td>\n",
       "      <td>reg001_A</td>\n",
       "      <td>reg001</td>\n",
       "      <td>A</td>\n",
       "      <td>...</td>\n",
       "      <td>4.366381</td>\n",
       "      <td>4.490049</td>\n",
       "      <td>4.600093</td>\n",
       "      <td>4.780738</td>\n",
       "      <td>3.819498</td>\n",
       "      <td>0.0</td>\n",
       "      <td>0.0</td>\n",
       "      <td>4.269707</td>\n",
       "      <td>0.0</td>\n",
       "      <td>0.0</td>\n",
       "    </tr>\n",
       "    <tr>\n",
       "      <th>2</th>\n",
       "      <td>2</td>\n",
       "      <td>197716</td>\n",
       "      <td>197716</td>\n",
       "      <td>197716</td>\n",
       "      <td>197716</td>\n",
       "      <td>10679</td>\n",
       "      <td>314</td>\n",
       "      <td>reg001_A</td>\n",
       "      <td>reg001</td>\n",
       "      <td>A</td>\n",
       "      <td>...</td>\n",
       "      <td>0.000000</td>\n",
       "      <td>1.633099</td>\n",
       "      <td>0.000000</td>\n",
       "      <td>0.000000</td>\n",
       "      <td>0.000000</td>\n",
       "      <td>0.0</td>\n",
       "      <td>0.0</td>\n",
       "      <td>0.000000</td>\n",
       "      <td>0.0</td>\n",
       "      <td>0.0</td>\n",
       "    </tr>\n",
       "    <tr>\n",
       "      <th>3</th>\n",
       "      <td>3</td>\n",
       "      <td>197717</td>\n",
       "      <td>197717</td>\n",
       "      <td>197717</td>\n",
       "      <td>197717</td>\n",
       "      <td>10679</td>\n",
       "      <td>356</td>\n",
       "      <td>reg001_A</td>\n",
       "      <td>reg001</td>\n",
       "      <td>A</td>\n",
       "      <td>...</td>\n",
       "      <td>0.000000</td>\n",
       "      <td>0.000000</td>\n",
       "      <td>2.649437</td>\n",
       "      <td>0.000000</td>\n",
       "      <td>2.278707</td>\n",
       "      <td>0.0</td>\n",
       "      <td>0.0</td>\n",
       "      <td>0.000000</td>\n",
       "      <td>0.0</td>\n",
       "      <td>0.0</td>\n",
       "    </tr>\n",
       "    <tr>\n",
       "      <th>4</th>\n",
       "      <td>4</td>\n",
       "      <td>197718</td>\n",
       "      <td>197718</td>\n",
       "      <td>197718</td>\n",
       "      <td>197718</td>\n",
       "      <td>10679</td>\n",
       "      <td>364</td>\n",
       "      <td>reg001_A</td>\n",
       "      <td>reg001</td>\n",
       "      <td>A</td>\n",
       "      <td>...</td>\n",
       "      <td>3.854438</td>\n",
       "      <td>3.664812</td>\n",
       "      <td>4.151177</td>\n",
       "      <td>4.151177</td>\n",
       "      <td>3.795137</td>\n",
       "      <td>0.0</td>\n",
       "      <td>0.0</td>\n",
       "      <td>2.769317</td>\n",
       "      <td>0.0</td>\n",
       "      <td>0.0</td>\n",
       "    </tr>\n",
       "    <tr>\n",
       "      <th>...</th>\n",
       "      <td>...</td>\n",
       "      <td>...</td>\n",
       "      <td>...</td>\n",
       "      <td>...</td>\n",
       "      <td>...</td>\n",
       "      <td>...</td>\n",
       "      <td>...</td>\n",
       "      <td>...</td>\n",
       "      <td>...</td>\n",
       "      <td>...</td>\n",
       "      <td>...</td>\n",
       "      <td>...</td>\n",
       "      <td>...</td>\n",
       "      <td>...</td>\n",
       "      <td>...</td>\n",
       "      <td>...</td>\n",
       "      <td>...</td>\n",
       "      <td>...</td>\n",
       "      <td>...</td>\n",
       "      <td>...</td>\n",
       "      <td>...</td>\n",
       "    </tr>\n",
       "    <tr>\n",
       "      <th>13038</th>\n",
       "      <td>13038</td>\n",
       "      <td>210752</td>\n",
       "      <td>210752</td>\n",
       "      <td>210752</td>\n",
       "      <td>210752</td>\n",
       "      <td>10679</td>\n",
       "      <td>255134</td>\n",
       "      <td>reg069_B</td>\n",
       "      <td>reg069</td>\n",
       "      <td>B</td>\n",
       "      <td>...</td>\n",
       "      <td>NaN</td>\n",
       "      <td>NaN</td>\n",
       "      <td>NaN</td>\n",
       "      <td>NaN</td>\n",
       "      <td>NaN</td>\n",
       "      <td>NaN</td>\n",
       "      <td>NaN</td>\n",
       "      <td>NaN</td>\n",
       "      <td>NaN</td>\n",
       "      <td>NaN</td>\n",
       "    </tr>\n",
       "    <tr>\n",
       "      <th>13039</th>\n",
       "      <td>13039</td>\n",
       "      <td>210753</td>\n",
       "      <td>210753</td>\n",
       "      <td>210753</td>\n",
       "      <td>210753</td>\n",
       "      <td>10679</td>\n",
       "      <td>255257</td>\n",
       "      <td>reg069_B</td>\n",
       "      <td>reg069</td>\n",
       "      <td>B</td>\n",
       "      <td>...</td>\n",
       "      <td>NaN</td>\n",
       "      <td>NaN</td>\n",
       "      <td>NaN</td>\n",
       "      <td>NaN</td>\n",
       "      <td>NaN</td>\n",
       "      <td>NaN</td>\n",
       "      <td>NaN</td>\n",
       "      <td>NaN</td>\n",
       "      <td>NaN</td>\n",
       "      <td>NaN</td>\n",
       "    </tr>\n",
       "    <tr>\n",
       "      <th>13040</th>\n",
       "      <td>13040</td>\n",
       "      <td>210754</td>\n",
       "      <td>210754</td>\n",
       "      <td>210754</td>\n",
       "      <td>210754</td>\n",
       "      <td>10679</td>\n",
       "      <td>255391</td>\n",
       "      <td>reg069_B</td>\n",
       "      <td>reg069</td>\n",
       "      <td>B</td>\n",
       "      <td>...</td>\n",
       "      <td>3.767950</td>\n",
       "      <td>3.200020</td>\n",
       "      <td>3.783583</td>\n",
       "      <td>2.854790</td>\n",
       "      <td>3.694406</td>\n",
       "      <td>0.0</td>\n",
       "      <td>0.0</td>\n",
       "      <td>2.930395</td>\n",
       "      <td>0.0</td>\n",
       "      <td>0.0</td>\n",
       "    </tr>\n",
       "    <tr>\n",
       "      <th>13041</th>\n",
       "      <td>13041</td>\n",
       "      <td>210755</td>\n",
       "      <td>210755</td>\n",
       "      <td>210755</td>\n",
       "      <td>210755</td>\n",
       "      <td>10679</td>\n",
       "      <td>257726</td>\n",
       "      <td>reg070_B</td>\n",
       "      <td>reg070</td>\n",
       "      <td>B</td>\n",
       "      <td>...</td>\n",
       "      <td>NaN</td>\n",
       "      <td>NaN</td>\n",
       "      <td>NaN</td>\n",
       "      <td>NaN</td>\n",
       "      <td>NaN</td>\n",
       "      <td>NaN</td>\n",
       "      <td>NaN</td>\n",
       "      <td>NaN</td>\n",
       "      <td>NaN</td>\n",
       "      <td>NaN</td>\n",
       "    </tr>\n",
       "    <tr>\n",
       "      <th>13042</th>\n",
       "      <td>13042</td>\n",
       "      <td>210756</td>\n",
       "      <td>210756</td>\n",
       "      <td>210756</td>\n",
       "      <td>210756</td>\n",
       "      <td>10679</td>\n",
       "      <td>257845</td>\n",
       "      <td>reg070_B</td>\n",
       "      <td>reg070</td>\n",
       "      <td>B</td>\n",
       "      <td>...</td>\n",
       "      <td>NaN</td>\n",
       "      <td>NaN</td>\n",
       "      <td>NaN</td>\n",
       "      <td>NaN</td>\n",
       "      <td>NaN</td>\n",
       "      <td>NaN</td>\n",
       "      <td>NaN</td>\n",
       "      <td>NaN</td>\n",
       "      <td>NaN</td>\n",
       "      <td>NaN</td>\n",
       "    </tr>\n",
       "  </tbody>\n",
       "</table>\n",
       "<p>13043 rows × 2107 columns</p>\n",
       "</div>"
      ],
      "text/plain": [
       "       level_0   index  Unnamed: 0.1  Unnamed: 0  CellID  ClusterID  EventID  \\\n",
       "0            0  197714        197714      197714  197714      10679      168   \n",
       "1            1  197715        197715      197715  197715      10679      307   \n",
       "2            2  197716        197716      197716  197716      10679      314   \n",
       "3            3  197717        197717      197717  197717      10679      356   \n",
       "4            4  197718        197718      197718  197718      10679      364   \n",
       "...        ...     ...           ...         ...     ...        ...      ...   \n",
       "13038    13038  210752        210752      210752  210752      10679   255134   \n",
       "13039    13039  210753        210753      210753  210753      10679   255257   \n",
       "13040    13040  210754        210754      210754  210754      10679   255391   \n",
       "13041    13041  210755        210755      210755  210755      10679   257726   \n",
       "13042    13042  210756        210756      210756  210756      10679   257845   \n",
       "\n",
       "      File Name  Region TMA_AB  ...    MT-CO2   MT-ATP6    MT-CO3    MT-ND3  \\\n",
       "0      reg001_A  reg001      A  ...  4.047706  3.313389  2.864985  2.864985   \n",
       "1      reg001_A  reg001      A  ...  4.366381  4.490049  4.600093  4.780738   \n",
       "2      reg001_A  reg001      A  ...  0.000000  1.633099  0.000000  0.000000   \n",
       "3      reg001_A  reg001      A  ...  0.000000  0.000000  2.649437  0.000000   \n",
       "4      reg001_A  reg001      A  ...  3.854438  3.664812  4.151177  4.151177   \n",
       "...         ...     ...    ...  ...       ...       ...       ...       ...   \n",
       "13038  reg069_B  reg069      B  ...       NaN       NaN       NaN       NaN   \n",
       "13039  reg069_B  reg069      B  ...       NaN       NaN       NaN       NaN   \n",
       "13040  reg069_B  reg069      B  ...  3.767950  3.200020  3.783583  2.854790   \n",
       "13041  reg070_B  reg070      B  ...       NaN       NaN       NaN       NaN   \n",
       "13042  reg070_B  reg070      B  ...       NaN       NaN       NaN       NaN   \n",
       "\n",
       "         MT-ND4  MT-TH  MT-TE    MT-CYB  MT-TP  CH507-154B10.2  \n",
       "0      3.529227    0.0    0.0  3.185043    0.0             0.0  \n",
       "1      3.819498    0.0    0.0  4.269707    0.0             0.0  \n",
       "2      0.000000    0.0    0.0  0.000000    0.0             0.0  \n",
       "3      2.278707    0.0    0.0  0.000000    0.0             0.0  \n",
       "4      3.795137    0.0    0.0  2.769317    0.0             0.0  \n",
       "...         ...    ...    ...       ...    ...             ...  \n",
       "13038       NaN    NaN    NaN       NaN    NaN             NaN  \n",
       "13039       NaN    NaN    NaN       NaN    NaN             NaN  \n",
       "13040  3.694406    0.0    0.0  2.930395    0.0             0.0  \n",
       "13041       NaN    NaN    NaN       NaN    NaN             NaN  \n",
       "13042       NaN    NaN    NaN       NaN    NaN             NaN  \n",
       "\n",
       "[13043 rows x 2107 columns]"
      ]
     },
     "execution_count": 32,
     "metadata": {},
     "output_type": "execute_result"
    }
   ],
   "source": [
    "protein_rna"
   ]
  },
  {
   "cell_type": "markdown",
   "id": "2bfcf6eb",
   "metadata": {},
   "source": [
    "# Merge with hotspot data"
   ]
  },
  {
   "cell_type": "code",
   "execution_count": 42,
   "id": "a7a4e338",
   "metadata": {},
   "outputs": [],
   "source": [
    "hotspot = pd.read_csv('cells_in_hotspots.csv')\n",
    "coldspot = pd.read_csv('cells_in_coldspots.csv')"
   ]
  },
  {
   "cell_type": "code",
   "execution_count": 39,
   "id": "454cd0dc",
   "metadata": {},
   "outputs": [],
   "source": [
    "protein_rna['hotspot'] = protein_rna['CellID'].isin(hotspot['CellID'])"
   ]
  },
  {
   "cell_type": "code",
   "execution_count": 43,
   "id": "f3edf3f0",
   "metadata": {},
   "outputs": [],
   "source": [
    "protein_rna['coldspot'] = protein_rna['CellID'].isin(coldspot['CellID'])"
   ]
  },
  {
   "cell_type": "code",
   "execution_count": 44,
   "id": "48c6ba83",
   "metadata": {},
   "outputs": [
    {
     "data": {
      "text/plain": [
       "4685"
      ]
     },
     "execution_count": 44,
     "metadata": {},
     "output_type": "execute_result"
    }
   ],
   "source": [
    "np.sum(protein_rna['hotspot'])"
   ]
  },
  {
   "cell_type": "code",
   "execution_count": 45,
   "id": "fdd42748",
   "metadata": {},
   "outputs": [
    {
     "data": {
      "text/plain": [
       "784"
      ]
     },
     "execution_count": 45,
     "metadata": {},
     "output_type": "execute_result"
    }
   ],
   "source": [
    "np.sum(protein_rna['coldspot'])"
   ]
  },
  {
   "cell_type": "code",
   "execution_count": 46,
   "id": "f0bdf78c",
   "metadata": {},
   "outputs": [],
   "source": [
    "protein_rna.to_csv('protein_rna_matched_CRC_hotspot.csv')"
   ]
  },
  {
   "cell_type": "code",
   "execution_count": null,
   "id": "ef773dd4",
   "metadata": {},
   "outputs": [],
   "source": []
  }
 ],
 "metadata": {
  "kernelspec": {
   "display_name": "Python 3 (ipykernel)",
   "language": "python",
   "name": "python3"
  },
  "language_info": {
   "codemirror_mode": {
    "name": "ipython",
    "version": 3
   },
   "file_extension": ".py",
   "mimetype": "text/x-python",
   "name": "python",
   "nbconvert_exporter": "python",
   "pygments_lexer": "ipython3",
   "version": "3.9.15"
  }
 },
 "nbformat": 4,
 "nbformat_minor": 5
}
