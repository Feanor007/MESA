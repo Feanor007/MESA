{
 "cells": [
  {
   "cell_type": "code",
   "execution_count": 1,
   "id": "074aa3cc",
   "metadata": {},
   "outputs": [],
   "source": [
    "import os\n",
    "import re\n",
    "import math\n",
    "import numpy as np\n",
    "import pandas as pd\n",
    "from scipy import stats\n",
    "from typing import Union\n",
    "import matplotlib.pyplot as plt\n",
    "from matplotlib.figure import figaspect\n",
    "import anndata as ad\n",
    "import scanpy as sc\n",
    "import seaborn as sns\n",
    "from sklearn.neighbors import NearestNeighbors\n",
    "from sklearn.cluster import KMeans\n",
    "from tqdm import tqdm "
   ]
  },
  {
   "cell_type": "code",
   "execution_count": 2,
   "id": "c241df19",
   "metadata": {},
   "outputs": [],
   "source": [
    "import warnings\n",
    "warnings.filterwarnings('ignore')"
   ]
  },
  {
   "cell_type": "markdown",
   "id": "8175beae",
   "metadata": {},
   "source": [
    "# Load data"
   ]
  },
  {
   "cell_type": "code",
   "execution_count": 3,
   "id": "a835ee11",
   "metadata": {},
   "outputs": [],
   "source": [
    "# read in protein data\n",
    "data_dir = './../../../neighborhood/CRC_related/'\n",
    "results_dir = './results_crc'\n",
    "protein = pd.read_csv(os.path.join(data_dir, 'crc_codex/CRC_clusters_neighborhoods_markersV2.csv')) # ~258,000 codex cells"
   ]
  },
  {
   "cell_type": "code",
   "execution_count": 4,
   "id": "611f0748",
   "metadata": {},
   "outputs": [],
   "source": [
    "macro_list = ['CD68+CD163+ macrophages']"
   ]
  },
  {
   "cell_type": "code",
   "execution_count": 5,
   "id": "ddf3bfa9",
   "metadata": {},
   "outputs": [],
   "source": [
    "protein_macro = protein[protein['ClusterName'].isin(macro_list)]"
   ]
  },
  {
   "cell_type": "code",
   "execution_count": 6,
   "id": "9488f790",
   "metadata": {},
   "outputs": [],
   "source": [
    "rna_adata = ad.read(os.path.join(data_dir, './hacohen_scrna/data/rna_processed_macro_0311.h5'))"
   ]
  },
  {
   "cell_type": "code",
   "execution_count": 7,
   "id": "fc0a3a90",
   "metadata": {},
   "outputs": [
    {
     "data": {
      "text/plain": [
       "AnnData object with n_obs × n_vars = 18976 × 43113\n",
       "    var: 'gene_ids', 'feature_types', 'genome'"
      ]
     },
     "execution_count": 7,
     "metadata": {},
     "output_type": "execute_result"
    }
   ],
   "source": [
    "rna_adata"
   ]
  },
  {
   "cell_type": "code",
   "execution_count": 8,
   "id": "e95b97ad",
   "metadata": {},
   "outputs": [],
   "source": [
    "sc.pp.normalize_total(rna_adata)\n",
    "sc.pp.log1p(rna_adata)\n",
    "sc.pp.highly_variable_genes(rna_adata, n_top_genes=2000)\n",
    "\n",
    "rna_adata_2k = rna_adata[:, rna_adata.var.highly_variable].copy()\n",
    "rna_adata_2k_df = pd.DataFrame(rna_adata_2k.X.toarray(), columns=rna_adata_2k.var_names)"
   ]
  },
  {
   "cell_type": "code",
   "execution_count": 9,
   "id": "8fde30db",
   "metadata": {},
   "outputs": [
    {
     "data": {
      "text/plain": [
       "(31587, 3)"
      ]
     },
     "execution_count": 9,
     "metadata": {},
     "output_type": "execute_result"
    }
   ],
   "source": [
    "matching = pd.read_csv('./../../multiomics_spatial/multiomics_fusion/results/crc_codex_rna_macro_163_0318.csv', index_col=False)\n",
    "matching.shape"
   ]
  },
  {
   "cell_type": "code",
   "execution_count": 10,
   "id": "5aa70f26",
   "metadata": {},
   "outputs": [
    {
     "data": {
      "text/plain": [
       "39595"
      ]
     },
     "execution_count": 10,
     "metadata": {},
     "output_type": "execute_result"
    }
   ],
   "source": [
    "np.max(matching['mod2_indx'])"
   ]
  },
  {
   "cell_type": "code",
   "execution_count": 11,
   "id": "8606aa47",
   "metadata": {},
   "outputs": [
    {
     "data": {
      "text/plain": [
       "18975"
      ]
     },
     "execution_count": 11,
     "metadata": {},
     "output_type": "execute_result"
    }
   ],
   "source": [
    "np.max(matching['mod1_indx'])"
   ]
  },
  {
   "cell_type": "code",
   "execution_count": 12,
   "id": "b7efd336",
   "metadata": {},
   "outputs": [],
   "source": [
    "protein_new = protein_macro"
   ]
  },
  {
   "cell_type": "code",
   "execution_count": 13,
   "id": "99d4e143",
   "metadata": {},
   "outputs": [],
   "source": [
    "protein_new = protein_new.reset_index()"
   ]
  },
  {
   "cell_type": "code",
   "execution_count": 14,
   "id": "528854db",
   "metadata": {},
   "outputs": [],
   "source": [
    "protein_new['mod2_indx'] = protein_new.index"
   ]
  },
  {
   "cell_type": "code",
   "execution_count": 15,
   "id": "17d8c139",
   "metadata": {},
   "outputs": [],
   "source": [
    "protein_rna = protein_new.reset_index() \\\n",
    "                .merge(matching, on='mod2_indx', how='left') \\\n",
    "                .merge(rna_adata_2k_df.reset_index().rename(columns={'index': 'mod1_indx'}), on='mod1_indx', how='left')"
   ]
  },
  {
   "cell_type": "code",
   "execution_count": 16,
   "id": "d3ad5b67",
   "metadata": {},
   "outputs": [
    {
     "data": {
      "text/html": [
       "<div>\n",
       "<style scoped>\n",
       "    .dataframe tbody tr th:only-of-type {\n",
       "        vertical-align: middle;\n",
       "    }\n",
       "\n",
       "    .dataframe tbody tr th {\n",
       "        vertical-align: top;\n",
       "    }\n",
       "\n",
       "    .dataframe thead th {\n",
       "        text-align: right;\n",
       "    }\n",
       "</style>\n",
       "<table border=\"1\" class=\"dataframe\">\n",
       "  <thead>\n",
       "    <tr style=\"text-align: right;\">\n",
       "      <th></th>\n",
       "      <th>level_0</th>\n",
       "      <th>index</th>\n",
       "      <th>Unnamed: 0.1</th>\n",
       "      <th>Unnamed: 0</th>\n",
       "      <th>CellID</th>\n",
       "      <th>ClusterID</th>\n",
       "      <th>EventID</th>\n",
       "      <th>File Name</th>\n",
       "      <th>Region</th>\n",
       "      <th>TMA_AB</th>\n",
       "      <th>...</th>\n",
       "      <th>RP13-228J13.1</th>\n",
       "      <th>AC006157.4</th>\n",
       "      <th>MT-RNR1</th>\n",
       "      <th>MT-TV</th>\n",
       "      <th>MT-RNR2</th>\n",
       "      <th>MT-TL1</th>\n",
       "      <th>MT-TQ</th>\n",
       "      <th>MT-TS1</th>\n",
       "      <th>MT-TP</th>\n",
       "      <th>CH507-513H4.1</th>\n",
       "    </tr>\n",
       "  </thead>\n",
       "  <tbody>\n",
       "    <tr>\n",
       "      <th>0</th>\n",
       "      <td>0</td>\n",
       "      <td>118271</td>\n",
       "      <td>118271</td>\n",
       "      <td>118271</td>\n",
       "      <td>118271</td>\n",
       "      <td>10658</td>\n",
       "      <td>8</td>\n",
       "      <td>reg001_A</td>\n",
       "      <td>reg001</td>\n",
       "      <td>A</td>\n",
       "      <td>...</td>\n",
       "      <td>0.0</td>\n",
       "      <td>0.0</td>\n",
       "      <td>1.865276</td>\n",
       "      <td>0.000000</td>\n",
       "      <td>4.111446</td>\n",
       "      <td>0.0</td>\n",
       "      <td>0.0</td>\n",
       "      <td>0.0</td>\n",
       "      <td>0.0</td>\n",
       "      <td>0.0</td>\n",
       "    </tr>\n",
       "    <tr>\n",
       "      <th>1</th>\n",
       "      <td>1</td>\n",
       "      <td>118272</td>\n",
       "      <td>118272</td>\n",
       "      <td>118272</td>\n",
       "      <td>118272</td>\n",
       "      <td>10658</td>\n",
       "      <td>10</td>\n",
       "      <td>reg001_A</td>\n",
       "      <td>reg001</td>\n",
       "      <td>A</td>\n",
       "      <td>...</td>\n",
       "      <td>0.0</td>\n",
       "      <td>0.0</td>\n",
       "      <td>5.166441</td>\n",
       "      <td>0.000000</td>\n",
       "      <td>5.767593</td>\n",
       "      <td>0.0</td>\n",
       "      <td>0.0</td>\n",
       "      <td>0.0</td>\n",
       "      <td>0.0</td>\n",
       "      <td>0.0</td>\n",
       "    </tr>\n",
       "    <tr>\n",
       "      <th>2</th>\n",
       "      <td>2</td>\n",
       "      <td>118273</td>\n",
       "      <td>118273</td>\n",
       "      <td>118273</td>\n",
       "      <td>118273</td>\n",
       "      <td>10658</td>\n",
       "      <td>13</td>\n",
       "      <td>reg001_A</td>\n",
       "      <td>reg001</td>\n",
       "      <td>A</td>\n",
       "      <td>...</td>\n",
       "      <td>0.0</td>\n",
       "      <td>0.0</td>\n",
       "      <td>3.129398</td>\n",
       "      <td>0.000000</td>\n",
       "      <td>4.988626</td>\n",
       "      <td>0.0</td>\n",
       "      <td>0.0</td>\n",
       "      <td>0.0</td>\n",
       "      <td>0.0</td>\n",
       "      <td>0.0</td>\n",
       "    </tr>\n",
       "    <tr>\n",
       "      <th>3</th>\n",
       "      <td>3</td>\n",
       "      <td>118274</td>\n",
       "      <td>118274</td>\n",
       "      <td>118274</td>\n",
       "      <td>118274</td>\n",
       "      <td>10658</td>\n",
       "      <td>16</td>\n",
       "      <td>reg001_A</td>\n",
       "      <td>reg001</td>\n",
       "      <td>A</td>\n",
       "      <td>...</td>\n",
       "      <td>0.0</td>\n",
       "      <td>0.0</td>\n",
       "      <td>4.636842</td>\n",
       "      <td>0.000000</td>\n",
       "      <td>5.207959</td>\n",
       "      <td>0.0</td>\n",
       "      <td>0.0</td>\n",
       "      <td>0.0</td>\n",
       "      <td>0.0</td>\n",
       "      <td>0.0</td>\n",
       "    </tr>\n",
       "    <tr>\n",
       "      <th>4</th>\n",
       "      <td>4</td>\n",
       "      <td>118275</td>\n",
       "      <td>118275</td>\n",
       "      <td>118275</td>\n",
       "      <td>118275</td>\n",
       "      <td>10658</td>\n",
       "      <td>17</td>\n",
       "      <td>reg001_A</td>\n",
       "      <td>reg001</td>\n",
       "      <td>A</td>\n",
       "      <td>...</td>\n",
       "      <td>0.0</td>\n",
       "      <td>0.0</td>\n",
       "      <td>0.000000</td>\n",
       "      <td>0.000000</td>\n",
       "      <td>2.668557</td>\n",
       "      <td>0.0</td>\n",
       "      <td>0.0</td>\n",
       "      <td>0.0</td>\n",
       "      <td>0.0</td>\n",
       "      <td>0.0</td>\n",
       "    </tr>\n",
       "    <tr>\n",
       "      <th>...</th>\n",
       "      <td>...</td>\n",
       "      <td>...</td>\n",
       "      <td>...</td>\n",
       "      <td>...</td>\n",
       "      <td>...</td>\n",
       "      <td>...</td>\n",
       "      <td>...</td>\n",
       "      <td>...</td>\n",
       "      <td>...</td>\n",
       "      <td>...</td>\n",
       "      <td>...</td>\n",
       "      <td>...</td>\n",
       "      <td>...</td>\n",
       "      <td>...</td>\n",
       "      <td>...</td>\n",
       "      <td>...</td>\n",
       "      <td>...</td>\n",
       "      <td>...</td>\n",
       "      <td>...</td>\n",
       "      <td>...</td>\n",
       "      <td>...</td>\n",
       "    </tr>\n",
       "    <tr>\n",
       "      <th>39591</th>\n",
       "      <td>39591</td>\n",
       "      <td>157862</td>\n",
       "      <td>157862</td>\n",
       "      <td>157862</td>\n",
       "      <td>157862</td>\n",
       "      <td>10658</td>\n",
       "      <td>258373</td>\n",
       "      <td>reg070_B</td>\n",
       "      <td>reg070</td>\n",
       "      <td>B</td>\n",
       "      <td>...</td>\n",
       "      <td>0.0</td>\n",
       "      <td>0.0</td>\n",
       "      <td>3.328004</td>\n",
       "      <td>0.000000</td>\n",
       "      <td>2.670094</td>\n",
       "      <td>0.0</td>\n",
       "      <td>0.0</td>\n",
       "      <td>0.0</td>\n",
       "      <td>0.0</td>\n",
       "      <td>0.0</td>\n",
       "    </tr>\n",
       "    <tr>\n",
       "      <th>39592</th>\n",
       "      <td>39592</td>\n",
       "      <td>157863</td>\n",
       "      <td>157863</td>\n",
       "      <td>157863</td>\n",
       "      <td>157863</td>\n",
       "      <td>10658</td>\n",
       "      <td>258375</td>\n",
       "      <td>reg070_B</td>\n",
       "      <td>reg070</td>\n",
       "      <td>B</td>\n",
       "      <td>...</td>\n",
       "      <td>0.0</td>\n",
       "      <td>0.0</td>\n",
       "      <td>2.200291</td>\n",
       "      <td>0.000000</td>\n",
       "      <td>3.589954</td>\n",
       "      <td>0.0</td>\n",
       "      <td>0.0</td>\n",
       "      <td>0.0</td>\n",
       "      <td>0.0</td>\n",
       "      <td>0.0</td>\n",
       "    </tr>\n",
       "    <tr>\n",
       "      <th>39593</th>\n",
       "      <td>39593</td>\n",
       "      <td>157864</td>\n",
       "      <td>157864</td>\n",
       "      <td>157864</td>\n",
       "      <td>157864</td>\n",
       "      <td>10658</td>\n",
       "      <td>258378</td>\n",
       "      <td>reg070_B</td>\n",
       "      <td>reg070</td>\n",
       "      <td>B</td>\n",
       "      <td>...</td>\n",
       "      <td>NaN</td>\n",
       "      <td>NaN</td>\n",
       "      <td>NaN</td>\n",
       "      <td>NaN</td>\n",
       "      <td>NaN</td>\n",
       "      <td>NaN</td>\n",
       "      <td>NaN</td>\n",
       "      <td>NaN</td>\n",
       "      <td>NaN</td>\n",
       "      <td>NaN</td>\n",
       "    </tr>\n",
       "    <tr>\n",
       "      <th>39594</th>\n",
       "      <td>39594</td>\n",
       "      <td>157865</td>\n",
       "      <td>157865</td>\n",
       "      <td>157865</td>\n",
       "      <td>157865</td>\n",
       "      <td>10658</td>\n",
       "      <td>258381</td>\n",
       "      <td>reg070_B</td>\n",
       "      <td>reg070</td>\n",
       "      <td>B</td>\n",
       "      <td>...</td>\n",
       "      <td>0.0</td>\n",
       "      <td>0.0</td>\n",
       "      <td>5.796338</td>\n",
       "      <td>0.000000</td>\n",
       "      <td>6.135330</td>\n",
       "      <td>0.0</td>\n",
       "      <td>0.0</td>\n",
       "      <td>0.0</td>\n",
       "      <td>0.0</td>\n",
       "      <td>0.0</td>\n",
       "    </tr>\n",
       "    <tr>\n",
       "      <th>39595</th>\n",
       "      <td>39595</td>\n",
       "      <td>157866</td>\n",
       "      <td>157866</td>\n",
       "      <td>157866</td>\n",
       "      <td>157866</td>\n",
       "      <td>10658</td>\n",
       "      <td>258384</td>\n",
       "      <td>reg070_B</td>\n",
       "      <td>reg070</td>\n",
       "      <td>B</td>\n",
       "      <td>...</td>\n",
       "      <td>0.0</td>\n",
       "      <td>0.0</td>\n",
       "      <td>3.837039</td>\n",
       "      <td>2.147643</td>\n",
       "      <td>5.120520</td>\n",
       "      <td>0.0</td>\n",
       "      <td>0.0</td>\n",
       "      <td>0.0</td>\n",
       "      <td>0.0</td>\n",
       "      <td>0.0</td>\n",
       "    </tr>\n",
       "  </tbody>\n",
       "</table>\n",
       "<p>39596 rows × 2106 columns</p>\n",
       "</div>"
      ],
      "text/plain": [
       "       level_0   index  Unnamed: 0.1  Unnamed: 0  CellID  ClusterID  EventID  \\\n",
       "0            0  118271        118271      118271  118271      10658        8   \n",
       "1            1  118272        118272      118272  118272      10658       10   \n",
       "2            2  118273        118273      118273  118273      10658       13   \n",
       "3            3  118274        118274      118274  118274      10658       16   \n",
       "4            4  118275        118275      118275  118275      10658       17   \n",
       "...        ...     ...           ...         ...     ...        ...      ...   \n",
       "39591    39591  157862        157862      157862  157862      10658   258373   \n",
       "39592    39592  157863        157863      157863  157863      10658   258375   \n",
       "39593    39593  157864        157864      157864  157864      10658   258378   \n",
       "39594    39594  157865        157865      157865  157865      10658   258381   \n",
       "39595    39595  157866        157866      157866  157866      10658   258384   \n",
       "\n",
       "      File Name  Region TMA_AB  ...  RP13-228J13.1  AC006157.4   MT-RNR1  \\\n",
       "0      reg001_A  reg001      A  ...            0.0         0.0  1.865276   \n",
       "1      reg001_A  reg001      A  ...            0.0         0.0  5.166441   \n",
       "2      reg001_A  reg001      A  ...            0.0         0.0  3.129398   \n",
       "3      reg001_A  reg001      A  ...            0.0         0.0  4.636842   \n",
       "4      reg001_A  reg001      A  ...            0.0         0.0  0.000000   \n",
       "...         ...     ...    ...  ...            ...         ...       ...   \n",
       "39591  reg070_B  reg070      B  ...            0.0         0.0  3.328004   \n",
       "39592  reg070_B  reg070      B  ...            0.0         0.0  2.200291   \n",
       "39593  reg070_B  reg070      B  ...            NaN         NaN       NaN   \n",
       "39594  reg070_B  reg070      B  ...            0.0         0.0  5.796338   \n",
       "39595  reg070_B  reg070      B  ...            0.0         0.0  3.837039   \n",
       "\n",
       "          MT-TV   MT-RNR2  MT-TL1  MT-TQ  MT-TS1  MT-TP  CH507-513H4.1  \n",
       "0      0.000000  4.111446     0.0    0.0     0.0    0.0            0.0  \n",
       "1      0.000000  5.767593     0.0    0.0     0.0    0.0            0.0  \n",
       "2      0.000000  4.988626     0.0    0.0     0.0    0.0            0.0  \n",
       "3      0.000000  5.207959     0.0    0.0     0.0    0.0            0.0  \n",
       "4      0.000000  2.668557     0.0    0.0     0.0    0.0            0.0  \n",
       "...         ...       ...     ...    ...     ...    ...            ...  \n",
       "39591  0.000000  2.670094     0.0    0.0     0.0    0.0            0.0  \n",
       "39592  0.000000  3.589954     0.0    0.0     0.0    0.0            0.0  \n",
       "39593       NaN       NaN     NaN    NaN     NaN    NaN            NaN  \n",
       "39594  0.000000  6.135330     0.0    0.0     0.0    0.0            0.0  \n",
       "39595  2.147643  5.120520     0.0    0.0     0.0    0.0            0.0  \n",
       "\n",
       "[39596 rows x 2106 columns]"
      ]
     },
     "execution_count": 16,
     "metadata": {},
     "output_type": "execute_result"
    }
   ],
   "source": [
    "protein_rna"
   ]
  },
  {
   "cell_type": "markdown",
   "id": "2bfcf6eb",
   "metadata": {},
   "source": [
    "# Merge with hotspot data"
   ]
  },
  {
   "cell_type": "code",
   "execution_count": 17,
   "id": "a7a4e338",
   "metadata": {},
   "outputs": [],
   "source": [
    "hotspot = pd.read_csv('cells_in_hotspots.csv')\n",
    "coldspot = pd.read_csv('cells_in_coldspots.csv')"
   ]
  },
  {
   "cell_type": "code",
   "execution_count": 27,
   "id": "3e605297",
   "metadata": {},
   "outputs": [
    {
     "data": {
      "text/plain": [
       "0        1\n",
       "1        1\n",
       "2        1\n",
       "3        1\n",
       "4        1\n",
       "        ..\n",
       "54122    2\n",
       "54123    2\n",
       "54124    2\n",
       "54125    2\n",
       "54126    2\n",
       "Name: groups, Length: 54127, dtype: int64"
      ]
     },
     "execution_count": 27,
     "metadata": {},
     "output_type": "execute_result"
    }
   ],
   "source": [
    "# 1 is CLR, 2 is DII\n",
    "hotspot['groups']"
   ]
  },
  {
   "cell_type": "code",
   "execution_count": 26,
   "id": "359a0006",
   "metadata": {},
   "outputs": [
    {
     "data": {
      "text/plain": [
       "['Unnamed: 0.1',\n",
       " 'Unnamed: 0',\n",
       " 'CellID',\n",
       " 'ClusterID',\n",
       " 'EventID',\n",
       " 'File Name',\n",
       " 'Region',\n",
       " 'TMA_AB',\n",
       " 'TMA_12',\n",
       " 'Index in File',\n",
       " 'groups',\n",
       " 'patients',\n",
       " 'spots',\n",
       " 'CD44 - stroma:Cyc_2_ch_2',\n",
       " 'FOXP3 - regulatory T cells:Cyc_2_ch_3',\n",
       " 'CD8 - cytotoxic T cells:Cyc_3_ch_2',\n",
       " 'p53 - tumor suppressor:Cyc_3_ch_3',\n",
       " 'GATA3 - Th2 helper T cells:Cyc_3_ch_4',\n",
       " 'CD45 - hematopoietic cells:Cyc_4_ch_2',\n",
       " 'T-bet - Th1 cells:Cyc_4_ch_3',\n",
       " 'beta-catenin - Wnt signaling:Cyc_4_ch_4',\n",
       " 'HLA-DR - MHC-II:Cyc_5_ch_2',\n",
       " 'PD-L1 - checkpoint:Cyc_5_ch_3',\n",
       " 'Ki67 - proliferation:Cyc_5_ch_4',\n",
       " 'CD45RA - naive T cells:Cyc_6_ch_2',\n",
       " 'CD4 - T helper cells:Cyc_6_ch_3',\n",
       " 'CD21 - DCs:Cyc_6_ch_4',\n",
       " 'MUC-1 - epithelia:Cyc_7_ch_2',\n",
       " 'CD30 - costimulator:Cyc_7_ch_3',\n",
       " 'CD2 - T cells:Cyc_7_ch_4',\n",
       " 'Vimentin - cytoplasm:Cyc_8_ch_2',\n",
       " 'CD20 - B cells:Cyc_8_ch_3',\n",
       " 'LAG-3 - checkpoint:Cyc_8_ch_4',\n",
       " 'Na-K-ATPase - membranes:Cyc_9_ch_2',\n",
       " 'CD5 - T cells:Cyc_9_ch_3',\n",
       " 'IDO-1 - metabolism:Cyc_9_ch_4',\n",
       " 'Cytokeratin - epithelia:Cyc_10_ch_2',\n",
       " 'CD11b - macrophages:Cyc_10_ch_3',\n",
       " 'CD56 - NK cells:Cyc_10_ch_4',\n",
       " 'aSMA - smooth muscle:Cyc_11_ch_2',\n",
       " 'BCL-2 - apoptosis:Cyc_11_ch_3',\n",
       " 'CD25 - IL-2 Ra:Cyc_11_ch_4',\n",
       " 'CD11c - DCs:Cyc_12_ch_3',\n",
       " 'PD-1 - checkpoint:Cyc_12_ch_4',\n",
       " 'Granzyme B - cytotoxicity:Cyc_13_ch_2',\n",
       " 'EGFR - signaling:Cyc_13_ch_3',\n",
       " 'VISTA - costimulator:Cyc_13_ch_4',\n",
       " 'CD15 - granulocytes:Cyc_14_ch_2',\n",
       " 'ICOS - costimulator:Cyc_14_ch_4',\n",
       " 'Synaptophysin - neuroendocrine:Cyc_15_ch_3',\n",
       " 'GFAP - nerves:Cyc_16_ch_2',\n",
       " 'CD7 - T cells:Cyc_16_ch_3',\n",
       " 'CD3 - T cells:Cyc_16_ch_4',\n",
       " 'Chromogranin A - neuroendocrine:Cyc_17_ch_2',\n",
       " 'CD163 - macrophages:Cyc_17_ch_3',\n",
       " 'CD45RO - memory cells:Cyc_18_ch_3',\n",
       " 'CD68 - macrophages:Cyc_18_ch_4',\n",
       " 'CD31 - vasculature:Cyc_19_ch_3',\n",
       " 'Podoplanin - lymphatics:Cyc_19_ch_4',\n",
       " 'CD34 - vasculature:Cyc_20_ch_3',\n",
       " 'CD38 - multifunctional:Cyc_20_ch_4',\n",
       " 'CD138 - plasma cells:Cyc_21_ch_3',\n",
       " 'cell_id:cell_id',\n",
       " 'tile_nr:tile_nr',\n",
       " 'X:X',\n",
       " 'Y:Y',\n",
       " 'X_withinTile:X_withinTile',\n",
       " 'Y_withinTile:Y_withinTile',\n",
       " 'Z:Z',\n",
       " 'size:size',\n",
       " 'HOECHST1:Cyc_1_ch_1',\n",
       " 'CDX2 - intestinal epithelia:Cyc_2_ch_4',\n",
       " 'Collagen IV - bas. memb.:Cyc_12_ch_2',\n",
       " 'CD194 - CCR4 chemokine R:Cyc_14_ch_3',\n",
       " 'MMP9 - matrix metalloproteinase:Cyc_15_ch_2',\n",
       " 'CD71 - transferrin R:Cyc_15_ch_4',\n",
       " 'CD57 - NK cells:Cyc_17_ch_4',\n",
       " 'MMP12 - matrix metalloproteinase:Cyc_21_ch_4',\n",
       " 'DRAQ5:Cyc_23_ch_4',\n",
       " 'Profile_Homogeneity:Fiter1',\n",
       " 'ClusterSize',\n",
       " 'ClusterName',\n",
       " 'neighborhood10',\n",
       " 'CD4+ICOS+',\n",
       " 'CD4+Ki67+',\n",
       " 'CD4+PD-1+',\n",
       " 'CD68+CD163+ICOS+',\n",
       " 'CD68+CD163+Ki67+',\n",
       " 'CD68+CD163+PD-1+',\n",
       " 'CD68+ICOS+',\n",
       " 'CD68+Ki67+',\n",
       " 'CD68+PD-1+',\n",
       " 'CD8+ICOS+',\n",
       " 'CD8+Ki67+',\n",
       " 'CD8+PD-1+',\n",
       " 'Treg-ICOS+',\n",
       " 'Treg-Ki67+',\n",
       " 'Treg-PD-1+',\n",
       " 'neighborhood number final',\n",
       " 'neighborhood name',\n",
       " 'ClusterNameV2']"
      ]
     },
     "execution_count": 26,
     "metadata": {},
     "output_type": "execute_result"
    }
   ],
   "source": [
    "list(hotspot.columns)"
   ]
  },
  {
   "cell_type": "code",
   "execution_count": 18,
   "id": "454cd0dc",
   "metadata": {},
   "outputs": [],
   "source": [
    "protein_rna['hotspot'] = protein_rna['CellID'].isin(hotspot['CellID'])"
   ]
  },
  {
   "cell_type": "code",
   "execution_count": 19,
   "id": "f3edf3f0",
   "metadata": {},
   "outputs": [],
   "source": [
    "protein_rna['coldspot'] = protein_rna['CellID'].isin(coldspot['CellID'])"
   ]
  },
  {
   "cell_type": "code",
   "execution_count": 20,
   "id": "48c6ba83",
   "metadata": {},
   "outputs": [
    {
     "data": {
      "text/plain": [
       "9706"
      ]
     },
     "execution_count": 20,
     "metadata": {},
     "output_type": "execute_result"
    }
   ],
   "source": [
    "np.sum(protein_rna['hotspot'])"
   ]
  },
  {
   "cell_type": "code",
   "execution_count": 21,
   "id": "fdd42748",
   "metadata": {},
   "outputs": [
    {
     "data": {
      "text/plain": [
       "667"
      ]
     },
     "execution_count": 21,
     "metadata": {},
     "output_type": "execute_result"
    }
   ],
   "source": [
    "np.sum(protein_rna['coldspot'])"
   ]
  },
  {
   "cell_type": "code",
   "execution_count": 22,
   "id": "f0bdf78c",
   "metadata": {},
   "outputs": [],
   "source": [
    "protein_rna.to_csv('protein_rna_matched_CRC_hotspot_macro_163.csv')"
   ]
  },
  {
   "cell_type": "code",
   "execution_count": null,
   "id": "ef773dd4",
   "metadata": {},
   "outputs": [],
   "source": []
  }
 ],
 "metadata": {
  "kernelspec": {
   "display_name": "Python 3 (ipykernel)",
   "language": "python",
   "name": "python3"
  },
  "language_info": {
   "codemirror_mode": {
    "name": "ipython",
    "version": 3
   },
   "file_extension": ".py",
   "mimetype": "text/x-python",
   "name": "python",
   "nbconvert_exporter": "python",
   "pygments_lexer": "ipython3",
   "version": "3.9.15"
  }
 },
 "nbformat": 4,
 "nbformat_minor": 5
}
