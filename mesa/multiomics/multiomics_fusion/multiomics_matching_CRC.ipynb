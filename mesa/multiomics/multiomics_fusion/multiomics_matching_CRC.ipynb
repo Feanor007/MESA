{
 "cells": [
  {
   "cell_type": "code",
   "execution_count": 1,
   "metadata": {},
   "outputs": [
    {
     "name": "stderr",
     "output_type": "stream",
     "text": [
      "/Users/daisyding/opt/miniconda3/envs/omics/lib/python3.9/site-packages/tqdm/auto.py:22: TqdmWarning: IProgress not found. Please update jupyter and ipywidgets. See https://ipywidgets.readthedocs.io/en/stable/user_install.html\n",
      "  from .autonotebook import tqdm as notebook_tqdm\n"
     ]
    }
   ],
   "source": [
    "import numpy as np\n",
    "import pandas as pd\n",
    "from scipy.io import mmread\n",
    "\n",
    "import matplotlib.pyplot as plt\n",
    "plt.rcParams[\"figure.figsize\"] = (6, 4)\n",
    "\n",
    "from sklearn.metrics import confusion_matrix, ConfusionMatrixDisplay\n",
    "\n",
    "import anndata as ad\n",
    "import scanpy as sc\n",
    "import maxfuse as mf\n",
    "\n",
    "import seaborn as sns\n",
    "import os\n"
   ]
  },
  {
   "cell_type": "markdown",
   "metadata": {},
   "source": [
    "## Data preprocessing"
   ]
  },
  {
   "cell_type": "code",
   "execution_count": 2,
   "metadata": {},
   "outputs": [],
   "source": [
    "# read in protein data\n",
    "data_dir = './../../../neighborhood/CRC_related/'\n",
    "protein = pd.read_csv(os.path.join(data_dir, 'crc_codex/CRC_clusters_neighborhoods_markersV2.csv')) # ~258,000 codex cells"
   ]
  },
  {
   "cell_type": "code",
   "execution_count": 3,
   "metadata": {},
   "outputs": [
    {
     "data": {
      "text/plain": [
       "47602"
      ]
     },
     "execution_count": 3,
     "metadata": {},
     "output_type": "execute_result"
    }
   ],
   "source": [
    "sum(protein['ClusterName'] == 'tumor cells')"
   ]
  },
  {
   "cell_type": "markdown",
   "metadata": {},
   "source": [
    "# Remove tumor cells in CODEX"
   ]
  },
  {
   "cell_type": "code",
   "execution_count": 4,
   "metadata": {},
   "outputs": [],
   "source": [
    "protein_new = protein[protein['ClusterName'] != 'tumor cells']"
   ]
  },
  {
   "cell_type": "code",
   "execution_count": 5,
   "metadata": {},
   "outputs": [
    {
     "data": {
      "text/plain": [
       "(210783, 101)"
      ]
     },
     "execution_count": 5,
     "metadata": {},
     "output_type": "execute_result"
    }
   ],
   "source": [
    "protein_new.shape"
   ]
  },
  {
   "cell_type": "code",
   "execution_count": 6,
   "metadata": {},
   "outputs": [
    {
     "data": {
      "text/plain": [
       "(258385, 101)"
      ]
     },
     "execution_count": 6,
     "metadata": {},
     "output_type": "execute_result"
    }
   ],
   "source": [
    "protein.shape"
   ]
  },
  {
   "cell_type": "code",
   "execution_count": 7,
   "metadata": {},
   "outputs": [],
   "source": [
    "protein_new = protein_new[protein_new['ClusterName'] != 'dirt']"
   ]
  },
  {
   "cell_type": "code",
   "execution_count": 8,
   "metadata": {},
   "outputs": [
    {
     "data": {
      "text/plain": [
       "(203426, 101)"
      ]
     },
     "execution_count": 8,
     "metadata": {},
     "output_type": "execute_result"
    }
   ],
   "source": [
    "protein_new.shape"
   ]
  },
  {
   "cell_type": "markdown",
   "metadata": {},
   "source": [
    "# Rename protein"
   ]
  },
  {
   "cell_type": "code",
   "execution_count": 9,
   "metadata": {},
   "outputs": [],
   "source": [
    "protein_features = list(protein.columns[13:62]) + list(protein.columns[70:79])\n",
    "protein_new_exp = protein_new[protein_features]"
   ]
  },
  {
   "cell_type": "code",
   "execution_count": 11,
   "metadata": {},
   "outputs": [],
   "source": [
    "import re\n",
    "protein_new_exp = protein_new_exp.rename(columns=lambda x: re.sub(' -.*','',x))"
   ]
  },
  {
   "cell_type": "code",
   "execution_count": 12,
   "metadata": {},
   "outputs": [],
   "source": [
    "# convert to AnnData\n",
    "protein_adata = ad.AnnData(\n",
    "    protein_new_exp.to_numpy(), dtype=np.float32\n",
    ")\n",
    "protein_adata.var_names = protein_new_exp.columns"
   ]
  },
  {
   "cell_type": "code",
   "execution_count": 13,
   "metadata": {},
   "outputs": [
    {
     "data": {
      "text/plain": [
       "Index(['CD44', 'FOXP3', 'CD8', 'p53', 'GATA3', 'CD45', 'T-bet', 'beta-catenin',\n",
       "       'HLA-DR', 'PD-L1', 'Ki67', 'CD45RA', 'CD4', 'CD21', 'MUC-1', 'CD30',\n",
       "       'CD2', 'Vimentin', 'CD20', 'LAG-3', 'Na-K-ATPase', 'CD5', 'IDO-1',\n",
       "       'Cytokeratin', 'CD11b', 'CD56', 'aSMA', 'BCL-2', 'CD25', 'CD11c',\n",
       "       'PD-1', 'Granzyme B', 'EGFR', 'VISTA', 'CD15', 'ICOS', 'Synaptophysin',\n",
       "       'GFAP', 'CD7', 'CD3', 'Chromogranin A', 'CD163', 'CD45RO', 'CD68',\n",
       "       'CD31', 'Podoplanin', 'CD34', 'CD38', 'CD138', 'HOECHST1:Cyc_1_ch_1',\n",
       "       'CDX2', 'Collagen IV', 'CD194', 'MMP9', 'CD71', 'CD57', 'MMP12',\n",
       "       'DRAQ5:Cyc_23_ch_4'],\n",
       "      dtype='object')"
      ]
     },
     "execution_count": 13,
     "metadata": {},
     "output_type": "execute_result"
    }
   ],
   "source": [
    "protein_adata.var_names"
   ]
  },
  {
   "cell_type": "code",
   "execution_count": 14,
   "metadata": {},
   "outputs": [
    {
     "data": {
      "text/plain": [
       "(203426, 58)"
      ]
     },
     "execution_count": 14,
     "metadata": {},
     "output_type": "execute_result"
    }
   ],
   "source": [
    "protein_adata.X.shape"
   ]
  },
  {
   "cell_type": "markdown",
   "metadata": {},
   "source": [
    "# Remove tumor cells in RNA"
   ]
  },
  {
   "cell_type": "code",
   "execution_count": 15,
   "metadata": {},
   "outputs": [
    {
     "name": "stderr",
     "output_type": "stream",
     "text": [
      "/Users/daisyding/opt/miniconda3/envs/omics/lib/python3.9/site-packages/scanpy/readwrite.py:281: FutureWarning: X.dtype being converted to np.float32 from float64. In the next version of anndata (0.9) conversion will not be automatic. Pass dtype explicitly to avoid this warning. Pass `AnnData(X, dtype=X.dtype, ...)` to get the future behavour.\n",
      "  adata = AnnData(\n",
      "/Users/daisyding/opt/miniconda3/envs/omics/lib/python3.9/site-packages/anndata/_core/anndata.py:1830: UserWarning: Variable names are not unique. To make them unique, call `.var_names_make_unique`.\n",
      "  utils.warn_names_duplicates(\"var\")\n"
     ]
    }
   ],
   "source": [
    "data_dir = './../../../neighborhood/CRC_related/'\n",
    "counts = sc.read_10x_h5(os.path.join(data_dir, 'hacohen_scrna/data/GSE178341_crc10x_full_c295v4_submit.h5'))"
   ]
  },
  {
   "cell_type": "code",
   "execution_count": 18,
   "metadata": {},
   "outputs": [
    {
     "data": {
      "text/html": [
       "<div>\n",
       "<style scoped>\n",
       "    .dataframe tbody tr th:only-of-type {\n",
       "        vertical-align: middle;\n",
       "    }\n",
       "\n",
       "    .dataframe tbody tr th {\n",
       "        vertical-align: top;\n",
       "    }\n",
       "\n",
       "    .dataframe thead th {\n",
       "        text-align: right;\n",
       "    }\n",
       "</style>\n",
       "<table border=\"1\" class=\"dataframe\">\n",
       "  <thead>\n",
       "    <tr style=\"text-align: right;\">\n",
       "      <th></th>\n",
       "      <th>sampleID</th>\n",
       "      <th>batchID</th>\n",
       "      <th>clTopLevel</th>\n",
       "      <th>clMidwayPr</th>\n",
       "      <th>cl295v11SubShort</th>\n",
       "      <th>cl295v11SubFull</th>\n",
       "    </tr>\n",
       "  </thead>\n",
       "  <tbody>\n",
       "    <tr>\n",
       "      <th>0</th>\n",
       "      <td>C103_T_1_1_0_c1_v2_id-AAACCTGCATGCTAGT</td>\n",
       "      <td>C103_T_1_1_0_c1_v2</td>\n",
       "      <td>Epi</td>\n",
       "      <td>Epi</td>\n",
       "      <td>cE01</td>\n",
       "      <td>cE01 (Stem/TA-like)</td>\n",
       "    </tr>\n",
       "    <tr>\n",
       "      <th>1</th>\n",
       "      <td>C103_T_1_1_0_c1_v2_id-AAACCTGGTAGCCTAT</td>\n",
       "      <td>C103_T_1_1_0_c1_v2</td>\n",
       "      <td>Epi</td>\n",
       "      <td>Epi</td>\n",
       "      <td>cE01</td>\n",
       "      <td>cE01 (Stem/TA-like)</td>\n",
       "    </tr>\n",
       "    <tr>\n",
       "      <th>2</th>\n",
       "      <td>C103_T_1_1_0_c1_v2_id-AAACCTGGTTGTCGCG</td>\n",
       "      <td>C103_T_1_1_0_c1_v2</td>\n",
       "      <td>Epi</td>\n",
       "      <td>Epi</td>\n",
       "      <td>cE03</td>\n",
       "      <td>cE03 (Stem/TA-like prolif)</td>\n",
       "    </tr>\n",
       "    <tr>\n",
       "      <th>3</th>\n",
       "      <td>C103_T_1_1_0_c1_v2_id-AAACCTGTCATGTGGT</td>\n",
       "      <td>C103_T_1_1_0_c1_v2</td>\n",
       "      <td>Epi</td>\n",
       "      <td>Epi</td>\n",
       "      <td>cE01</td>\n",
       "      <td>cE01 (Stem/TA-like)</td>\n",
       "    </tr>\n",
       "    <tr>\n",
       "      <th>4</th>\n",
       "      <td>C103_T_1_1_0_c1_v2_id-AAACCTGTCCTTGGTC</td>\n",
       "      <td>C103_T_1_1_0_c1_v2</td>\n",
       "      <td>Epi</td>\n",
       "      <td>Epi</td>\n",
       "      <td>cE01</td>\n",
       "      <td>cE01 (Stem/TA-like)</td>\n",
       "    </tr>\n",
       "  </tbody>\n",
       "</table>\n",
       "</div>"
      ],
      "text/plain": [
       "                                 sampleID             batchID clTopLevel  \\\n",
       "0  C103_T_1_1_0_c1_v2_id-AAACCTGCATGCTAGT  C103_T_1_1_0_c1_v2        Epi   \n",
       "1  C103_T_1_1_0_c1_v2_id-AAACCTGGTAGCCTAT  C103_T_1_1_0_c1_v2        Epi   \n",
       "2  C103_T_1_1_0_c1_v2_id-AAACCTGGTTGTCGCG  C103_T_1_1_0_c1_v2        Epi   \n",
       "3  C103_T_1_1_0_c1_v2_id-AAACCTGTCATGTGGT  C103_T_1_1_0_c1_v2        Epi   \n",
       "4  C103_T_1_1_0_c1_v2_id-AAACCTGTCCTTGGTC  C103_T_1_1_0_c1_v2        Epi   \n",
       "\n",
       "  clMidwayPr cl295v11SubShort             cl295v11SubFull  \n",
       "0        Epi             cE01         cE01 (Stem/TA-like)  \n",
       "1        Epi             cE01         cE01 (Stem/TA-like)  \n",
       "2        Epi             cE03  cE03 (Stem/TA-like prolif)  \n",
       "3        Epi             cE01         cE01 (Stem/TA-like)  \n",
       "4        Epi             cE01         cE01 (Stem/TA-like)  "
      ]
     },
     "execution_count": 18,
     "metadata": {},
     "output_type": "execute_result"
    }
   ],
   "source": [
    "cluster = pd.read_csv(os.path.join(data_dir, 'hacohen_scrna/data/GSE178341_crc10x_full_c295v4_submit_cluster.csv'))\n",
    "cluster.head()"
   ]
  },
  {
   "cell_type": "code",
   "execution_count": 19,
   "metadata": {},
   "outputs": [
    {
     "data": {
      "text/plain": [
       "Epi             168295\n",
       "Plasma           37809\n",
       "TCD4             34598\n",
       "B                25660\n",
       "TCD8             23486\n",
       "Macro            20280\n",
       "Mono             14242\n",
       "Tgd               9383\n",
       "Endo              7520\n",
       "DC                5549\n",
       "Fibro             5231\n",
       "TZBTB16           4742\n",
       "NK                3924\n",
       "Mast              3834\n",
       "Granulo           2043\n",
       "Peri              1525\n",
       "SmoothMuscle       881\n",
       "ILC                832\n",
       "Schwann            281\n",
       "Name: clMidwayPr, dtype: int64"
      ]
     },
     "execution_count": 19,
     "metadata": {},
     "output_type": "execute_result"
    }
   ],
   "source": [
    "cluster.clMidwayPr.value_counts()"
   ]
  },
  {
   "cell_type": "code",
   "execution_count": 20,
   "metadata": {},
   "outputs": [],
   "source": [
    "cancer_cell_index = cluster[cluster.clMidwayPr == 'Epi'].index"
   ]
  },
  {
   "cell_type": "markdown",
   "metadata": {},
   "source": [
    "# Remove normal tissues in RNA"
   ]
  },
  {
   "cell_type": "code",
   "execution_count": 20,
   "metadata": {},
   "outputs": [
    {
     "data": {
      "text/html": [
       "<div>\n",
       "<style scoped>\n",
       "    .dataframe tbody tr th:only-of-type {\n",
       "        vertical-align: middle;\n",
       "    }\n",
       "\n",
       "    .dataframe tbody tr th {\n",
       "        vertical-align: top;\n",
       "    }\n",
       "\n",
       "    .dataframe thead th {\n",
       "        text-align: right;\n",
       "    }\n",
       "</style>\n",
       "<table border=\"1\" class=\"dataframe\">\n",
       "  <thead>\n",
       "    <tr style=\"text-align: right;\">\n",
       "      <th></th>\n",
       "      <th>cellID</th>\n",
       "      <th>SPECIMEN_TYPE</th>\n",
       "      <th>SOURCE_HOSPITAL</th>\n",
       "      <th>TISSUE_PROCESSING_TEAM</th>\n",
       "      <th>PROCESSING_TYPE</th>\n",
       "      <th>SINGLECELL_TYPE</th>\n",
       "      <th>PatientTypeID</th>\n",
       "      <th>HistologicTypeSimple</th>\n",
       "      <th>MMR_IHC</th>\n",
       "      <th>MMRStatus</th>\n",
       "      <th>...</th>\n",
       "      <th>NodeStatus_detailed</th>\n",
       "      <th>NodeStatusSimple</th>\n",
       "      <th>MetastasisStatus</th>\n",
       "      <th>TumorSize</th>\n",
       "      <th>SizeQuantile</th>\n",
       "      <th>PID</th>\n",
       "      <th>Sex</th>\n",
       "      <th>Age</th>\n",
       "      <th>Ethnicity</th>\n",
       "      <th>Race</th>\n",
       "    </tr>\n",
       "  </thead>\n",
       "  <tbody>\n",
       "    <tr>\n",
       "      <th>0</th>\n",
       "      <td>C103_T_1_1_0_c1_v2_id-AAACCTGCATGCTAGT</td>\n",
       "      <td>T</td>\n",
       "      <td>MGH</td>\n",
       "      <td>Hacohen</td>\n",
       "      <td>unsorted</td>\n",
       "      <td>SC3Pv2</td>\n",
       "      <td>C103_T</td>\n",
       "      <td>Adenocarcinoma</td>\n",
       "      <td>preserved</td>\n",
       "      <td>MMRp</td>\n",
       "      <td>...</td>\n",
       "      <td>N0</td>\n",
       "      <td>Nneg</td>\n",
       "      <td>not entered (Mx)</td>\n",
       "      <td>2.5</td>\n",
       "      <td>1.0</td>\n",
       "      <td>C103</td>\n",
       "      <td>M</td>\n",
       "      <td>45</td>\n",
       "      <td>No</td>\n",
       "      <td>Asian</td>\n",
       "    </tr>\n",
       "    <tr>\n",
       "      <th>1</th>\n",
       "      <td>C103_T_1_1_0_c1_v2_id-AAACCTGGTAGCCTAT</td>\n",
       "      <td>T</td>\n",
       "      <td>MGH</td>\n",
       "      <td>Hacohen</td>\n",
       "      <td>unsorted</td>\n",
       "      <td>SC3Pv2</td>\n",
       "      <td>C103_T</td>\n",
       "      <td>Adenocarcinoma</td>\n",
       "      <td>preserved</td>\n",
       "      <td>MMRp</td>\n",
       "      <td>...</td>\n",
       "      <td>N0</td>\n",
       "      <td>Nneg</td>\n",
       "      <td>not entered (Mx)</td>\n",
       "      <td>2.5</td>\n",
       "      <td>1.0</td>\n",
       "      <td>C103</td>\n",
       "      <td>M</td>\n",
       "      <td>45</td>\n",
       "      <td>No</td>\n",
       "      <td>Asian</td>\n",
       "    </tr>\n",
       "    <tr>\n",
       "      <th>2</th>\n",
       "      <td>C103_T_1_1_0_c1_v2_id-AAACCTGGTTGTCGCG</td>\n",
       "      <td>T</td>\n",
       "      <td>MGH</td>\n",
       "      <td>Hacohen</td>\n",
       "      <td>unsorted</td>\n",
       "      <td>SC3Pv2</td>\n",
       "      <td>C103_T</td>\n",
       "      <td>Adenocarcinoma</td>\n",
       "      <td>preserved</td>\n",
       "      <td>MMRp</td>\n",
       "      <td>...</td>\n",
       "      <td>N0</td>\n",
       "      <td>Nneg</td>\n",
       "      <td>not entered (Mx)</td>\n",
       "      <td>2.5</td>\n",
       "      <td>1.0</td>\n",
       "      <td>C103</td>\n",
       "      <td>M</td>\n",
       "      <td>45</td>\n",
       "      <td>No</td>\n",
       "      <td>Asian</td>\n",
       "    </tr>\n",
       "    <tr>\n",
       "      <th>3</th>\n",
       "      <td>C103_T_1_1_0_c1_v2_id-AAACCTGTCATGTGGT</td>\n",
       "      <td>T</td>\n",
       "      <td>MGH</td>\n",
       "      <td>Hacohen</td>\n",
       "      <td>unsorted</td>\n",
       "      <td>SC3Pv2</td>\n",
       "      <td>C103_T</td>\n",
       "      <td>Adenocarcinoma</td>\n",
       "      <td>preserved</td>\n",
       "      <td>MMRp</td>\n",
       "      <td>...</td>\n",
       "      <td>N0</td>\n",
       "      <td>Nneg</td>\n",
       "      <td>not entered (Mx)</td>\n",
       "      <td>2.5</td>\n",
       "      <td>1.0</td>\n",
       "      <td>C103</td>\n",
       "      <td>M</td>\n",
       "      <td>45</td>\n",
       "      <td>No</td>\n",
       "      <td>Asian</td>\n",
       "    </tr>\n",
       "    <tr>\n",
       "      <th>4</th>\n",
       "      <td>C103_T_1_1_0_c1_v2_id-AAACCTGTCCTTGGTC</td>\n",
       "      <td>T</td>\n",
       "      <td>MGH</td>\n",
       "      <td>Hacohen</td>\n",
       "      <td>unsorted</td>\n",
       "      <td>SC3Pv2</td>\n",
       "      <td>C103_T</td>\n",
       "      <td>Adenocarcinoma</td>\n",
       "      <td>preserved</td>\n",
       "      <td>MMRp</td>\n",
       "      <td>...</td>\n",
       "      <td>N0</td>\n",
       "      <td>Nneg</td>\n",
       "      <td>not entered (Mx)</td>\n",
       "      <td>2.5</td>\n",
       "      <td>1.0</td>\n",
       "      <td>C103</td>\n",
       "      <td>M</td>\n",
       "      <td>45</td>\n",
       "      <td>No</td>\n",
       "      <td>Asian</td>\n",
       "    </tr>\n",
       "  </tbody>\n",
       "</table>\n",
       "<p>5 rows × 27 columns</p>\n",
       "</div>"
      ],
      "text/plain": [
       "                                   cellID SPECIMEN_TYPE SOURCE_HOSPITAL  \\\n",
       "0  C103_T_1_1_0_c1_v2_id-AAACCTGCATGCTAGT             T             MGH   \n",
       "1  C103_T_1_1_0_c1_v2_id-AAACCTGGTAGCCTAT             T             MGH   \n",
       "2  C103_T_1_1_0_c1_v2_id-AAACCTGGTTGTCGCG             T             MGH   \n",
       "3  C103_T_1_1_0_c1_v2_id-AAACCTGTCATGTGGT             T             MGH   \n",
       "4  C103_T_1_1_0_c1_v2_id-AAACCTGTCCTTGGTC             T             MGH   \n",
       "\n",
       "  TISSUE_PROCESSING_TEAM PROCESSING_TYPE SINGLECELL_TYPE PatientTypeID  \\\n",
       "0                Hacohen        unsorted          SC3Pv2        C103_T   \n",
       "1                Hacohen        unsorted          SC3Pv2        C103_T   \n",
       "2                Hacohen        unsorted          SC3Pv2        C103_T   \n",
       "3                Hacohen        unsorted          SC3Pv2        C103_T   \n",
       "4                Hacohen        unsorted          SC3Pv2        C103_T   \n",
       "\n",
       "  HistologicTypeSimple    MMR_IHC MMRStatus  ... NodeStatus_detailed  \\\n",
       "0       Adenocarcinoma  preserved      MMRp  ...                  N0   \n",
       "1       Adenocarcinoma  preserved      MMRp  ...                  N0   \n",
       "2       Adenocarcinoma  preserved      MMRp  ...                  N0   \n",
       "3       Adenocarcinoma  preserved      MMRp  ...                  N0   \n",
       "4       Adenocarcinoma  preserved      MMRp  ...                  N0   \n",
       "\n",
       "  NodeStatusSimple  MetastasisStatus TumorSize SizeQuantile   PID Sex Age  \\\n",
       "0             Nneg  not entered (Mx)       2.5          1.0  C103   M  45   \n",
       "1             Nneg  not entered (Mx)       2.5          1.0  C103   M  45   \n",
       "2             Nneg  not entered (Mx)       2.5          1.0  C103   M  45   \n",
       "3             Nneg  not entered (Mx)       2.5          1.0  C103   M  45   \n",
       "4             Nneg  not entered (Mx)       2.5          1.0  C103   M  45   \n",
       "\n",
       "  Ethnicity   Race  \n",
       "0        No  Asian  \n",
       "1        No  Asian  \n",
       "2        No  Asian  \n",
       "3        No  Asian  \n",
       "4        No  Asian  \n",
       "\n",
       "[5 rows x 27 columns]"
      ]
     },
     "execution_count": 20,
     "metadata": {},
     "output_type": "execute_result"
    }
   ],
   "source": [
    "metapat = pd.read_csv(os.path.join(data_dir,'hacohen_scrna/data/GSE178341_crc10x_full_c295v4_submit_metatables.csv'))\n",
    "metapat.head()"
   ]
  },
  {
   "cell_type": "code",
   "execution_count": 21,
   "metadata": {},
   "outputs": [
    {
     "data": {
      "text/plain": [
       "Adenocarcinoma                                          228103\n",
       "Normal colon                                            112864\n",
       "Adenocarcinoma;Mucinous                                  18813\n",
       "Medullary                                                 4717\n",
       "Adenocarcinoma;Mucinous;Neuroendocrine                    3091\n",
       "Adenocarcinoma;Medullary (with solid growth pattern)      2527\n",
       "Name: HistologicTypeSimple, dtype: int64"
      ]
     },
     "execution_count": 21,
     "metadata": {},
     "output_type": "execute_result"
    }
   ],
   "source": [
    "metapat.HistologicTypeSimple.value_counts()"
   ]
  },
  {
   "cell_type": "code",
   "execution_count": 22,
   "metadata": {},
   "outputs": [],
   "source": [
    "normal_tissue_index = metapat[metapat.HistologicTypeSimple == 'Normal colon'].index"
   ]
  },
  {
   "cell_type": "code",
   "execution_count": 24,
   "metadata": {},
   "outputs": [],
   "source": [
    "rows_to_remove = list(cancer_cell_index) + list(normal_tissue_index)"
   ]
  },
  {
   "cell_type": "code",
   "execution_count": 25,
   "metadata": {},
   "outputs": [
    {
     "name": "stderr",
     "output_type": "stream",
     "text": [
      "Filtering rows: 100%|██████████████████| 370115/370115 [10:24<00:00, 593.04it/s]\n"
     ]
    }
   ],
   "source": [
    "from tqdm import tqdm\n",
    "filtered_rows = []\n",
    "for i in tqdm(range(counts.n_obs), desc=\"Filtering rows\"):\n",
    "    if i not in rows_to_remove:\n",
    "        filtered_rows.append(i)"
   ]
  },
  {
   "cell_type": "code",
   "execution_count": 26,
   "metadata": {},
   "outputs": [],
   "source": [
    "filtered_adata = counts[filtered_rows, :]"
   ]
  },
  {
   "cell_type": "code",
   "execution_count": 27,
   "metadata": {},
   "outputs": [],
   "source": [
    "rna_adata = filtered_adata"
   ]
  },
  {
   "cell_type": "code",
   "execution_count": 28,
   "metadata": {},
   "outputs": [
    {
     "data": {
      "text/plain": [
       "(144035, 43113)"
      ]
     },
     "execution_count": 28,
     "metadata": {},
     "output_type": "execute_result"
    }
   ],
   "source": [
    "rna_adata.X.shape"
   ]
  },
  {
   "cell_type": "code",
   "execution_count": 29,
   "metadata": {},
   "outputs": [
    {
     "data": {
      "text/plain": [
       "(370115, 43113)"
      ]
     },
     "execution_count": 29,
     "metadata": {},
     "output_type": "execute_result"
    }
   ],
   "source": [
    "counts.X.shape"
   ]
  },
  {
   "cell_type": "code",
   "execution_count": 30,
   "metadata": {},
   "outputs": [
    {
     "data": {
      "text/plain": [
       "Index(['RP11-34P13.3', 'FAM138A', 'OR4F5', 'RP11-34P13.7', 'RP11-34P13.8',\n",
       "       'AL627309.1', 'RP11-34P13.14', 'RNU6-1100P', 'RP11-34P13.9',\n",
       "       'AP006222.2',\n",
       "       ...\n",
       "       'ADT-CD56', 'ADT-CD11b', 'ADT-CD15', 'ADT-CD163', 'ADT-CD20',\n",
       "       'ADT-TCRgd', 'ADT-TCRab', 'ADT-CD1c', 'ADT-CD141', 'ADT-HLA-DR'],\n",
       "      dtype='object', length=43113)"
      ]
     },
     "execution_count": 30,
     "metadata": {},
     "output_type": "execute_result"
    }
   ],
   "source": [
    "rna_adata.var_names"
   ]
  },
  {
   "cell_type": "code",
   "execution_count": 31,
   "metadata": {},
   "outputs": [
    {
     "name": "stderr",
     "output_type": "stream",
     "text": [
      "/Users/daisyding/opt/miniconda3/envs/omics/lib/python3.9/site-packages/anndata/utils.py:111: UserWarning: Suffix used (-[0-9]+) to deduplicate index values may make index values difficult to interpret. There values with a similar suffixes in the index. Consider using a different delimiter by passing `join={delimiter}`Example key collisions generated by the make_index_unique algorithm: ['SNORD116-1', 'SNORD116-2', 'SNORD116-3', 'SNORD116-5', 'SNORD116-6']\n",
      "  warnings.warn(\n",
      "/Users/daisyding/opt/miniconda3/envs/omics/lib/python3.9/site-packages/anndata/_core/anndata.py:1830: UserWarning: Variable names are not unique. To make them unique, call `.var_names_make_unique`.\n",
      "  utils.warn_names_duplicates(\"var\")\n"
     ]
    }
   ],
   "source": [
    "rna_adata.var_names_make_unique()"
   ]
  },
  {
   "cell_type": "code",
   "execution_count": 32,
   "metadata": {},
   "outputs": [
    {
     "data": {
      "text/plain": [
       "(144035, 43113)"
      ]
     },
     "execution_count": 32,
     "metadata": {},
     "output_type": "execute_result"
    }
   ],
   "source": [
    "rna_adata.X.shape"
   ]
  },
  {
   "cell_type": "code",
   "execution_count": 97,
   "metadata": {},
   "outputs": [],
   "source": [
    "rna_adata.write(os.path.join(data_dir, \"hacohen_scrna/data/rna_processed_0905.h5\"))"
   ]
  },
  {
   "cell_type": "markdown",
   "metadata": {},
   "source": [
    "# Name conversion between protein and RNA"
   ]
  },
  {
   "cell_type": "code",
   "execution_count": 33,
   "metadata": {},
   "outputs": [
    {
     "data": {
      "text/html": [
       "<div>\n",
       "<style scoped>\n",
       "    .dataframe tbody tr th:only-of-type {\n",
       "        vertical-align: middle;\n",
       "    }\n",
       "\n",
       "    .dataframe tbody tr th {\n",
       "        vertical-align: top;\n",
       "    }\n",
       "\n",
       "    .dataframe thead th {\n",
       "        text-align: right;\n",
       "    }\n",
       "</style>\n",
       "<table border=\"1\" class=\"dataframe\">\n",
       "  <thead>\n",
       "    <tr style=\"text-align: right;\">\n",
       "      <th></th>\n",
       "      <th>Protein name</th>\n",
       "      <th>RNA name</th>\n",
       "    </tr>\n",
       "  </thead>\n",
       "  <tbody>\n",
       "    <tr>\n",
       "      <th>0</th>\n",
       "      <td>CD80</td>\n",
       "      <td>CD80</td>\n",
       "    </tr>\n",
       "    <tr>\n",
       "      <th>1</th>\n",
       "      <td>CD86</td>\n",
       "      <td>CD86</td>\n",
       "    </tr>\n",
       "    <tr>\n",
       "      <th>2</th>\n",
       "      <td>CD274</td>\n",
       "      <td>CD274</td>\n",
       "    </tr>\n",
       "    <tr>\n",
       "      <th>3</th>\n",
       "      <td>CD273</td>\n",
       "      <td>PDCD1LG2</td>\n",
       "    </tr>\n",
       "    <tr>\n",
       "      <th>4</th>\n",
       "      <td>CD275</td>\n",
       "      <td>ICOSLG</td>\n",
       "    </tr>\n",
       "  </tbody>\n",
       "</table>\n",
       "</div>"
      ],
      "text/plain": [
       "  Protein name  RNA name\n",
       "0         CD80      CD80\n",
       "1         CD86      CD86\n",
       "2        CD274     CD274\n",
       "3        CD273  PDCD1LG2\n",
       "4        CD275    ICOSLG"
      ]
     },
     "execution_count": 33,
     "metadata": {},
     "output_type": "execute_result"
    }
   ],
   "source": [
    "correspondence = pd.read_csv(os.path.join(data_dir, 'pro_rna_conv_0615_23.csv'))\n",
    "#correspondence = pd.read_csv('./../CRC_related/protein_rna_name_conversionV8.csv')\n",
    "correspondence.head()"
   ]
  },
  {
   "cell_type": "code",
   "execution_count": 34,
   "metadata": {},
   "outputs": [],
   "source": [
    "rna_protein_correspondence = []\n",
    "\n",
    "for i in range(correspondence.shape[0]):\n",
    "    curr_protein_name, curr_rna_names = correspondence.iloc[i]\n",
    "    if curr_protein_name not in protein_adata.var_names:\n",
    "        continue\n",
    "    if curr_rna_names.find('Ignore') != -1: # some correspondence ignored eg. protein isoform to one gene\n",
    "        continue\n",
    "    curr_rna_names = curr_rna_names.split('/') # eg. one protein to multiple genes\n",
    "    for r in curr_rna_names:\n",
    "        if r in rna_adata.var_names:\n",
    "            rna_protein_correspondence.append([r, curr_protein_name])\n",
    "            \n",
    "rna_protein_correspondence = np.array(rna_protein_correspondence)"
   ]
  },
  {
   "cell_type": "code",
   "execution_count": 35,
   "metadata": {},
   "outputs": [
    {
     "name": "stdout",
     "output_type": "stream",
     "text": [
      "[(144035, 60), (210783, 60)]\n"
     ]
    },
    {
     "name": "stderr",
     "output_type": "stream",
     "text": [
      "/Users/daisyding/opt/miniconda3/envs/omics/lib/python3.9/site-packages/anndata/_core/anndata.py:1830: UserWarning: Variable names are not unique. To make them unique, call `.var_names_make_unique`.\n",
      "  utils.warn_names_duplicates(\"var\")\n",
      "/Users/daisyding/opt/miniconda3/envs/omics/lib/python3.9/site-packages/anndata/_core/anndata.py:1830: UserWarning: Variable names are not unique. To make them unique, call `.var_names_make_unique`.\n",
      "  utils.warn_names_duplicates(\"var\")\n"
     ]
    }
   ],
   "source": [
    "# Columns rna_shared and protein_shared are matched.\n",
    "# One may encounter \"Variable names are not unique\" warning,\n",
    "# this is fine and is because one RNA may encode multiple proteins and vice versa.\n",
    "rna_shared = rna_adata[:, rna_protein_correspondence[:, 0]].copy()\n",
    "protein_shared = protein_adata[:, rna_protein_correspondence[:, 1]].copy()\n",
    "print([rna_shared.shape,protein_shared.shape])"
   ]
  },
  {
   "cell_type": "code",
   "execution_count": 37,
   "metadata": {},
   "outputs": [
    {
     "name": "stdout",
     "output_type": "stream",
     "text": [
      "[(144035, 60), (210783, 60)]\n"
     ]
    }
   ],
   "source": [
    "# Make sure no column is static\n",
    "mask = (\n",
    "    (rna_shared.X.toarray().std(axis=0) > 0.01) \n",
    "    & (protein_shared.X.std(axis=0) > 0.01)\n",
    ")\n",
    "rna_shared = rna_shared[:, mask].copy()\n",
    "protein_shared = protein_shared[:, mask].copy()\n",
    "print([rna_shared.shape,protein_shared.shape])"
   ]
  },
  {
   "cell_type": "code",
   "execution_count": 38,
   "metadata": {},
   "outputs": [
    {
     "name": "stderr",
     "output_type": "stream",
     "text": [
      "/Users/daisyding/opt/miniconda3/envs/omics/lib/python3.9/site-packages/scanpy/preprocessing/_normalization.py:197: UserWarning: Some cells have zero counts\n",
      "  warn(UserWarning('Some cells have zero counts'))\n"
     ]
    }
   ],
   "source": [
    "# process rna_shared\n",
    "sc.pp.normalize_total(rna_shared)\n",
    "sc.pp.log1p(rna_shared)\n",
    "sc.pp.scale(rna_shared)\n",
    "rna_shared = rna_shared.X.copy()"
   ]
  },
  {
   "cell_type": "code",
   "execution_count": 39,
   "metadata": {},
   "outputs": [],
   "source": [
    "sc.pp.log1p(protein_shared)\n",
    "sc.pp.scale(protein_shared)\n",
    "protein_shared = protein_shared.X.copy()"
   ]
  },
  {
   "cell_type": "code",
   "execution_count": 40,
   "metadata": {},
   "outputs": [],
   "source": [
    "# process all RNA features\n",
    "sc.pp.normalize_total(rna_adata)\n",
    "sc.pp.log1p(rna_adata)\n",
    "sc.pp.highly_variable_genes(rna_adata, n_top_genes=5000)\n",
    "# only retain highly variable genes\n",
    "rna_adata = rna_adata[:, rna_adata.var.highly_variable].copy()\n",
    "sc.pp.scale(rna_adata)"
   ]
  },
  {
   "cell_type": "code",
   "execution_count": 41,
   "metadata": {},
   "outputs": [],
   "source": [
    "# process all protein features\n",
    "sc.pp.log1p(protein_adata)\n",
    "sc.pp.scale(protein_adata)"
   ]
  },
  {
   "cell_type": "code",
   "execution_count": 42,
   "metadata": {},
   "outputs": [],
   "source": [
    "# make sure no feature is static\n",
    "rna_active = rna_adata.X\n",
    "protein_active = protein_adata.X\n",
    "rna_active = rna_active[:, rna_active.std(axis=0) > 1e-5] # these are fine since already using variable features\n",
    "protein_active = protein_active[:, protein_active.std(axis=0) > 1e-5] # protein are generally variable"
   ]
  },
  {
   "cell_type": "code",
   "execution_count": 43,
   "metadata": {},
   "outputs": [
    {
     "data": {
      "text/plain": [
       "(144035, 5000)"
      ]
     },
     "execution_count": 43,
     "metadata": {},
     "output_type": "execute_result"
    }
   ],
   "source": [
    "rna_active.shape"
   ]
  },
  {
   "cell_type": "code",
   "execution_count": 44,
   "metadata": {},
   "outputs": [
    {
     "data": {
      "text/plain": [
       "(210783, 58)"
      ]
     },
     "execution_count": 44,
     "metadata": {},
     "output_type": "execute_result"
    }
   ],
   "source": [
    "protein_active.shape"
   ]
  },
  {
   "cell_type": "markdown",
   "metadata": {},
   "source": [
    "## Fitting MaxFuse"
   ]
  },
  {
   "cell_type": "markdown",
   "metadata": {},
   "source": [
    "### Step I: preparations"
   ]
  },
  {
   "cell_type": "code",
   "execution_count": 45,
   "metadata": {},
   "outputs": [],
   "source": [
    "# call constructor for Fusor object\n",
    "# which is the main object for running MaxFuse pipeline\n",
    "fusor = mf.model.Fusor(\n",
    "    shared_arr1=rna_shared,\n",
    "    shared_arr2=protein_shared,\n",
    "    active_arr1=rna_active,\n",
    "    active_arr2=protein_active,\n",
    "    labels1=None,\n",
    "    labels2=None\n",
    ")"
   ]
  },
  {
   "cell_type": "code",
   "execution_count": 46,
   "metadata": {},
   "outputs": [
    {
     "name": "stdout",
     "output_type": "stream",
     "text": [
      "The first data is split into 8 batches, average batch size is 18004, and max batch size is 18007.\n",
      "The second data is split into 6 batches, average batch size is 35130, and max batch size is 35133.\n",
      "Batch to batch correspondence is:\n",
      "  ['0<->0', '0<->1', '0<->2', '0<->3', '0<->4', '0<->5', '1<->0', '1<->1', '1<->2', '1<->3', '1<->4', '1<->5', '2<->0', '2<->1', '2<->2', '2<->3', '2<->4', '2<->5', '3<->0', '3<->1', '3<->2', '3<->3', '3<->4', '3<->5', '4<->0', '4<->1', '4<->2', '4<->3', '4<->4', '4<->5', '5<->0', '5<->1', '5<->2', '5<->3', '5<->4', '5<->5', '6<->0', '6<->1', '6<->2', '6<->3', '6<->4', '6<->5', '7<->0', '7<->1', '7<->2', '7<->3', '7<->4', '7<->5'].\n"
     ]
    }
   ],
   "source": [
    "fusor.split_into_batches(\n",
    "    max_outward_size=8000,\n",
    "    matching_ratio=4,\n",
    "    metacell_size=2,\n",
    "    verbose=True\n",
    ")"
   ]
  },
  {
   "cell_type": "code",
   "execution_count": 47,
   "metadata": {},
   "outputs": [
    {
     "data": {
      "text/plain": [
       "(<Figure size 600x400 with 1 Axes>,\n",
       " <Axes: title={'center': 'Singular value v.s. component index for batch 0'}, xlabel='Index', ylabel='Singular value'>)"
      ]
     },
     "execution_count": 47,
     "metadata": {},
     "output_type": "execute_result"
    },
    {
     "data": {
      "image/png": "[encoded data removed]",
      "text/plain": [
       "<Figure size 600x400 with 1 Axes>"
      ]
     },
     "metadata": {},
     "output_type": "display_data"
    }
   ],
   "source": [
    "# plot top singular values of avtive_arr1 on a random batch\n",
    "fusor.plot_singular_values(\n",
    "    target='active_arr1',\n",
    "    n_components=None # can also explicitly specify the number of components\n",
    ")"
   ]
  },
  {
   "cell_type": "code",
   "execution_count": 48,
   "metadata": {},
   "outputs": [
    {
     "data": {
      "text/plain": [
       "(<Figure size 600x400 with 1 Axes>,\n",
       " <Axes: title={'center': 'Singular value v.s. component index for batch 3'}, xlabel='Index', ylabel='Singular value'>)"
      ]
     },
     "execution_count": 48,
     "metadata": {},
     "output_type": "execute_result"
    },
    {
     "data": {
      "image/png": "[encoded data removed]",
      "text/plain": [
       "<Figure size 600x400 with 1 Axes>"
      ]
     },
     "metadata": {},
     "output_type": "display_data"
    }
   ],
   "source": [
    "# plot top singular values of avtive_arr2 on a random batch\n",
    "fusor.plot_singular_values(\n",
    "    target='active_arr2',\n",
    "    n_components=None\n",
    ")"
   ]
  },
  {
   "cell_type": "code",
   "execution_count": 49,
   "metadata": {},
   "outputs": [
    {
     "name": "stdout",
     "output_type": "stream",
     "text": [
      "Aggregating cells in arr1 into metacells of average size 2...\n",
      "Constructing neighborhood graphs for cells in arr1...\n",
      "Now at batch 0...\n",
      "Now at batch 1...\n",
      "Now at batch 2...\n",
      "Now at batch 3...\n",
      "Now at batch 4...\n",
      "Now at batch 5...\n",
      "Now at batch 6...\n",
      "Now at batch 7...\n",
      "Graph construction finished!\n",
      "Clustering into metacells...\n",
      "Now at batch 0...\n",
      "Metacell clustering finished!\n",
      "Now at batch 1...\n",
      "Metacell clustering finished!\n",
      "Now at batch 2...\n",
      "Metacell clustering finished!\n",
      "Now at batch 3...\n",
      "Metacell clustering finished!\n",
      "Now at batch 4...\n",
      "Metacell clustering finished!\n",
      "Now at batch 5...\n",
      "Metacell clustering finished!\n",
      "Now at batch 6...\n",
      "Metacell clustering finished!\n",
      "Now at batch 7...\n",
      "Metacell clustering finished!\n",
      "Constructing neighborhood graphs for cells in arr1...\n",
      "Now at batch 0...\n",
      "Now at batch 1...\n",
      "Now at batch 2...\n",
      "Now at batch 3...\n",
      "Now at batch 4...\n",
      "Now at batch 5...\n",
      "Now at batch 6...\n",
      "Now at batch 7...\n",
      "Graph construction finished!\n",
      "Clustering the graphs for cells in arr1...\n",
      "Now at batch 0...\n",
      "Now at batch 1...\n",
      "Now at batch 2...\n",
      "Now at batch 3...\n",
      "Now at batch 4...\n",
      "Now at batch 5...\n",
      "Now at batch 6...\n",
      "Now at batch 7...\n",
      "Graph clustering finished!\n",
      "Constructing neighborhood graphs for cells in arr2...\n",
      "Now at batch 0...\n",
      "Now at batch 1...\n",
      "Now at batch 2...\n",
      "Now at batch 3...\n",
      "Now at batch 4...\n",
      "Now at batch 5...\n",
      "Graph construction finished!\n",
      "Clustering the graphs for cells in arr2...\n",
      "Now at batch 0...\n",
      "Now at batch 1...\n",
      "Now at batch 2...\n",
      "Now at batch 3...\n",
      "Now at batch 4...\n",
      "Now at batch 5...\n",
      "Graph clustering finished!\n"
     ]
    }
   ],
   "source": [
    "fusor.construct_graphs(\n",
    "    n_neighbors1=15,\n",
    "    n_neighbors2=15,\n",
    "    svd_components1=30,\n",
    "    svd_components2=30,\n",
    "    resolution1=2,\n",
    "    resolution2=2,\n",
    "    # if two resolutions differ less than resolution_tol\n",
    "    # then we do not distinguish between then\n",
    "    resolution_tol=0.1,\n",
    "    verbose=True\n",
    ")"
   ]
  },
  {
   "cell_type": "markdown",
   "metadata": {},
   "source": [
    "### Step II: finding initial pivots"
   ]
  },
  {
   "cell_type": "code",
   "execution_count": 50,
   "metadata": {},
   "outputs": [
    {
     "data": {
      "text/plain": [
       "(<Figure size 600x400 with 1 Axes>,\n",
       " <Axes: title={'center': 'Singular value v.s. component index for batch 0'}, xlabel='Index', ylabel='Singular value'>)"
      ]
     },
     "execution_count": 50,
     "metadata": {},
     "output_type": "execute_result"
    },
    {
     "data": {
      "image/png": "[encoded data removed]",
      "text/plain": [
       "<Figure size 600x400 with 1 Axes>"
      ]
     },
     "metadata": {},
     "output_type": "display_data"
    }
   ],
   "source": [
    "# plot top singular values of shared_arr1 on a random batch\n",
    "fusor.plot_singular_values(\n",
    "    target='shared_arr1',\n",
    "    n_components=None,\n",
    ")"
   ]
  },
  {
   "cell_type": "code",
   "execution_count": 51,
   "metadata": {},
   "outputs": [
    {
     "data": {
      "text/plain": [
       "(<Figure size 600x400 with 1 Axes>,\n",
       " <Axes: title={'center': 'Singular value v.s. component index for batch 4'}, xlabel='Index', ylabel='Singular value'>)"
      ]
     },
     "execution_count": 51,
     "metadata": {},
     "output_type": "execute_result"
    },
    {
     "data": {
      "image/png": "[encoded data removed]",
      "text/plain": [
       "<Figure size 600x400 with 1 Axes>"
      ]
     },
     "metadata": {},
     "output_type": "display_data"
    }
   ],
   "source": [
    "# plot top singular values of shared_arr2 on a random batch\n",
    "fusor.plot_singular_values(\n",
    "    target='shared_arr2',\n",
    "    n_components=None\n",
    ")"
   ]
  },
  {
   "cell_type": "code",
   "execution_count": 52,
   "metadata": {},
   "outputs": [
    {
     "name": "stdout",
     "output_type": "stream",
     "text": [
      "Now at batch 0<->0...\n",
      "Now at batch 0<->1...\n",
      "Now at batch 0<->2...\n",
      "Now at batch 0<->3...\n",
      "Now at batch 0<->4...\n",
      "Now at batch 0<->5...\n",
      "Now at batch 1<->0...\n",
      "Now at batch 1<->1...\n",
      "Now at batch 1<->2...\n",
      "Now at batch 1<->3...\n",
      "Now at batch 1<->4...\n",
      "Now at batch 1<->5...\n",
      "Now at batch 2<->0...\n",
      "Now at batch 2<->1...\n",
      "Now at batch 2<->2...\n",
      "Now at batch 2<->3...\n",
      "Now at batch 2<->4...\n",
      "Now at batch 2<->5...\n",
      "Now at batch 3<->0...\n",
      "Now at batch 3<->1...\n",
      "Now at batch 3<->2...\n",
      "Now at batch 3<->3...\n",
      "Now at batch 3<->4...\n",
      "Now at batch 3<->5...\n",
      "Now at batch 4<->0...\n",
      "Now at batch 4<->1...\n",
      "Now at batch 4<->2...\n",
      "Now at batch 4<->3...\n",
      "Now at batch 4<->4...\n",
      "Now at batch 4<->5...\n",
      "Now at batch 5<->0...\n",
      "Now at batch 5<->1...\n",
      "Now at batch 5<->2...\n",
      "Now at batch 5<->3...\n",
      "Now at batch 5<->4...\n",
      "Now at batch 5<->5...\n",
      "Now at batch 6<->0...\n",
      "Now at batch 6<->1...\n",
      "Now at batch 6<->2...\n",
      "Now at batch 6<->3...\n",
      "Now at batch 6<->4...\n",
      "Now at batch 6<->5...\n",
      "Now at batch 7<->0...\n",
      "Now at batch 7<->1...\n",
      "Now at batch 7<->2...\n",
      "Now at batch 7<->3...\n",
      "Now at batch 7<->4...\n",
      "Now at batch 7<->5...\n",
      "Done!\n"
     ]
    }
   ],
   "source": [
    "fusor.find_initial_pivots(\n",
    "    wt1=0.3, wt2=0.3,\n",
    "    svd_components1=25, svd_components2=20\n",
    ")"
   ]
  },
  {
   "cell_type": "markdown",
   "metadata": {},
   "source": [
    "### Step III: finding refined pivots"
   ]
  },
  {
   "cell_type": "code",
   "execution_count": 53,
   "metadata": {},
   "outputs": [
    {
     "data": {
      "text/plain": [
       "(<Figure size 600x400 with 1 Axes>,\n",
       " <Axes: title={'center': 'Canonical correlation v.s. component index for batch 3<->4'}, xlabel='Index', ylabel='Canonical correlation'>)"
      ]
     },
     "execution_count": 53,
     "metadata": {},
     "output_type": "execute_result"
    },
    {
     "data": {
      "image/png": "[encoded data removed]",
      "text/plain": [
       "<Figure size 600x400 with 1 Axes>"
      ]
     },
     "metadata": {},
     "output_type": "display_data"
    }
   ],
   "source": [
    "# plot top canonical correlations in a random batch\n",
    "fusor.plot_canonical_correlations(\n",
    "    svd_components1=50,\n",
    "    svd_components2=None,\n",
    "    cca_components=45\n",
    ")"
   ]
  },
  {
   "cell_type": "code",
   "execution_count": 54,
   "metadata": {},
   "outputs": [
    {
     "name": "stdout",
     "output_type": "stream",
     "text": [
      "Now at batch 0<->0...\n",
      "Now at batch 0<->1...\n",
      "Now at batch 0<->2...\n",
      "Now at batch 0<->3...\n",
      "Now at batch 0<->4...\n",
      "Now at batch 0<->5...\n",
      "Now at batch 1<->0...\n",
      "Now at batch 1<->1...\n",
      "Now at batch 1<->2...\n",
      "Now at batch 1<->3...\n",
      "Now at batch 1<->4...\n",
      "Now at batch 1<->5...\n",
      "Now at batch 2<->0...\n",
      "Now at batch 2<->1...\n",
      "Now at batch 2<->2...\n",
      "Now at batch 2<->3...\n",
      "Now at batch 2<->4...\n",
      "Now at batch 2<->5...\n",
      "Now at batch 3<->0...\n",
      "Now at batch 3<->1...\n",
      "Now at batch 3<->2...\n",
      "Now at batch 3<->3...\n",
      "Now at batch 3<->4...\n",
      "Now at batch 3<->5...\n",
      "Now at batch 4<->0...\n",
      "Now at batch 4<->1...\n",
      "Now at batch 4<->2...\n",
      "Now at batch 4<->3...\n",
      "Now at batch 4<->4...\n",
      "Now at batch 4<->5...\n",
      "Now at batch 5<->0...\n",
      "Now at batch 5<->1...\n",
      "Now at batch 5<->2...\n",
      "Now at batch 5<->3...\n",
      "Now at batch 5<->4...\n",
      "Now at batch 5<->5...\n",
      "Now at batch 6<->0...\n",
      "Now at batch 6<->1...\n",
      "Now at batch 6<->2...\n",
      "Now at batch 6<->3...\n",
      "Now at batch 6<->4...\n",
      "Now at batch 6<->5...\n",
      "Now at batch 7<->0...\n",
      "Now at batch 7<->1...\n",
      "Now at batch 7<->2...\n",
      "Now at batch 7<->3...\n",
      "Now at batch 7<->4...\n",
      "Now at batch 7<->5...\n",
      "Done!\n"
     ]
    }
   ],
   "source": [
    "fusor.refine_pivots(\n",
    "    wt1=0.3, wt2=0.3,\n",
    "    svd_components1=30, svd_components2=None,\n",
    "    cca_components=25,\n",
    "    n_iters=1,\n",
    "    randomized_svd=False, \n",
    "    svd_runs=1,\n",
    "    verbose=True\n",
    ")"
   ]
  },
  {
   "cell_type": "code",
   "execution_count": 55,
   "metadata": {},
   "outputs": [
    {
     "name": "stdout",
     "output_type": "stream",
     "text": [
      "Begin filtering...\n",
      "Now at batch 0<->0...\n",
      "Now at batch 0<->1...\n",
      "Now at batch 0<->2...\n",
      "Now at batch 0<->3...\n",
      "Now at batch 0<->4...\n",
      "Now at batch 0<->5...\n",
      "Now at batch 1<->0...\n",
      "Now at batch 1<->1...\n",
      "Now at batch 1<->2...\n",
      "Now at batch 1<->3...\n",
      "Now at batch 1<->4...\n",
      "Now at batch 1<->5...\n",
      "Now at batch 2<->0...\n",
      "Now at batch 2<->1...\n",
      "Now at batch 2<->2...\n",
      "Now at batch 2<->3...\n",
      "Now at batch 2<->4...\n",
      "Now at batch 2<->5...\n",
      "Now at batch 3<->0...\n",
      "Now at batch 3<->1...\n",
      "Now at batch 3<->2...\n",
      "Now at batch 3<->3...\n",
      "Now at batch 3<->4...\n",
      "Now at batch 3<->5...\n",
      "Now at batch 4<->0...\n",
      "Now at batch 4<->1...\n",
      "Now at batch 4<->2...\n",
      "Now at batch 4<->3...\n",
      "Now at batch 4<->4...\n",
      "Now at batch 4<->5...\n",
      "Now at batch 5<->0...\n",
      "Now at batch 5<->1...\n",
      "Now at batch 5<->2...\n",
      "Now at batch 5<->3...\n",
      "Now at batch 5<->4...\n",
      "Now at batch 5<->5...\n",
      "Now at batch 6<->0...\n",
      "Now at batch 6<->1...\n",
      "Now at batch 6<->2...\n",
      "Now at batch 6<->3...\n",
      "Now at batch 6<->4...\n",
      "Now at batch 6<->5...\n",
      "Now at batch 7<->0...\n",
      "Now at batch 7<->1...\n",
      "Now at batch 7<->2...\n",
      "Now at batch 7<->3...\n",
      "Now at batch 7<->4...\n",
      "Now at batch 7<->5...\n",
      "216132/432252 pairs of matched cells remain after the filtering.\n",
      "Fitting CCA on pivots...\n",
      "Scoring matched pairs...\n",
      "117113/144035 cells in arr1 are selected as pivots.\n",
      "53875/210783 cells in arr2 are selected as pivots.\n",
      "Done!\n"
     ]
    }
   ],
   "source": [
    "fusor.filter_bad_matches(target='pivot', filter_prop=0.5)"
   ]
  },
  {
   "cell_type": "markdown",
   "metadata": {},
   "source": [
    "### Step IV: propagation"
   ]
  },
  {
   "cell_type": "code",
   "execution_count": 56,
   "metadata": {},
   "outputs": [
    {
     "name": "stdout",
     "output_type": "stream",
     "text": [
      "Now at batch 0<->0...\n",
      "Now at batch 0<->1...\n",
      "Now at batch 0<->2...\n",
      "Now at batch 0<->3...\n",
      "Now at batch 0<->4...\n",
      "Now at batch 0<->5...\n",
      "Now at batch 1<->0...\n",
      "Now at batch 1<->1...\n",
      "Now at batch 1<->2...\n",
      "Now at batch 1<->3...\n",
      "Now at batch 1<->4...\n",
      "Now at batch 1<->5...\n",
      "Now at batch 2<->0...\n",
      "Now at batch 2<->1...\n",
      "Now at batch 2<->2...\n",
      "Now at batch 2<->3...\n",
      "Now at batch 2<->4...\n",
      "Now at batch 2<->5...\n",
      "Now at batch 3<->0...\n",
      "Now at batch 3<->1...\n",
      "Now at batch 3<->2...\n",
      "Now at batch 3<->3...\n",
      "Now at batch 3<->4...\n",
      "Now at batch 3<->5...\n",
      "Now at batch 4<->0...\n",
      "Now at batch 4<->1...\n",
      "Now at batch 4<->2...\n",
      "Now at batch 4<->3...\n",
      "Now at batch 4<->4...\n",
      "Now at batch 4<->5...\n",
      "Now at batch 5<->0...\n",
      "Now at batch 5<->1...\n",
      "Now at batch 5<->2...\n",
      "Now at batch 5<->3...\n",
      "Now at batch 5<->4...\n",
      "Now at batch 5<->5...\n",
      "Now at batch 6<->0...\n",
      "Now at batch 6<->1...\n",
      "Now at batch 6<->2...\n",
      "Now at batch 6<->3...\n",
      "Now at batch 6<->4...\n",
      "Now at batch 6<->5...\n",
      "Now at batch 7<->0...\n",
      "Now at batch 7<->1...\n",
      "Now at batch 7<->2...\n",
      "Now at batch 7<->3...\n",
      "Now at batch 7<->4...\n",
      "Now at batch 7<->5...\n",
      "Done!\n"
     ]
    }
   ],
   "source": [
    "fusor.propagate(\n",
    "    svd_components1=40, \n",
    "    svd_components2=None, \n",
    "    wt1=0.7,\n",
    "    wt2=0.7,\n",
    ")"
   ]
  },
  {
   "cell_type": "code",
   "execution_count": 57,
   "metadata": {},
   "outputs": [
    {
     "name": "stdout",
     "output_type": "stream",
     "text": [
      "Begin filtering...\n",
      "Now at batch 0<->0...\n",
      "Now at batch 0<->1...\n",
      "Now at batch 0<->2...\n",
      "Now at batch 0<->3...\n",
      "Now at batch 0<->4...\n",
      "Now at batch 0<->5...\n",
      "Now at batch 1<->0...\n",
      "Now at batch 1<->1...\n",
      "Now at batch 1<->2...\n",
      "Now at batch 1<->3...\n",
      "Now at batch 1<->4...\n",
      "Now at batch 1<->5...\n",
      "Now at batch 2<->0...\n",
      "Now at batch 2<->1...\n",
      "Now at batch 2<->2...\n",
      "Now at batch 2<->3...\n",
      "Now at batch 2<->4...\n",
      "Now at batch 2<->5...\n",
      "Now at batch 3<->0...\n",
      "Now at batch 3<->1...\n",
      "Now at batch 3<->2...\n",
      "Now at batch 3<->3...\n",
      "Now at batch 3<->4...\n",
      "Now at batch 3<->5...\n",
      "Now at batch 4<->0...\n",
      "Now at batch 4<->1...\n",
      "Now at batch 4<->2...\n",
      "Now at batch 4<->3...\n",
      "Now at batch 4<->4...\n",
      "Now at batch 4<->5...\n",
      "Now at batch 5<->0...\n",
      "Now at batch 5<->1...\n",
      "Now at batch 5<->2...\n",
      "Now at batch 5<->3...\n",
      "Now at batch 5<->4...\n",
      "Now at batch 5<->5...\n",
      "Now at batch 6<->0...\n",
      "Now at batch 6<->1...\n",
      "Now at batch 6<->2...\n",
      "Now at batch 6<->3...\n",
      "Now at batch 6<->4...\n",
      "Now at batch 6<->5...\n",
      "Now at batch 7<->0...\n",
      "Now at batch 7<->1...\n",
      "Now at batch 7<->2...\n",
      "Now at batch 7<->3...\n",
      "Now at batch 7<->4...\n",
      "Now at batch 7<->5...\n",
      "1180372/1686252 pairs of matched cells remain after the filtering.\n",
      "Scoring matched pairs...\n",
      "Done!\n"
     ]
    }
   ],
   "source": [
    "fusor.filter_bad_matches(\n",
    "    target='propagated',\n",
    "    filter_prop=0.3\n",
    ")"
   ]
  },
  {
   "cell_type": "code",
   "execution_count": 58,
   "metadata": {},
   "outputs": [],
   "source": [
    "full_matching = fusor.get_matching(order=(2, 1), target='full_data')"
   ]
  },
  {
   "cell_type": "code",
   "execution_count": 59,
   "metadata": {},
   "outputs": [
    {
     "data": {
      "text/plain": [
       "174813"
      ]
     },
     "execution_count": 59,
     "metadata": {},
     "output_type": "execute_result"
    }
   ],
   "source": [
    "len(full_matching[0])"
   ]
  },
  {
   "cell_type": "code",
   "execution_count": 60,
   "metadata": {},
   "outputs": [
    {
     "data": {
      "text/html": [
       "<div>\n",
       "<style scoped>\n",
       "    .dataframe tbody tr th:only-of-type {\n",
       "        vertical-align: middle;\n",
       "    }\n",
       "\n",
       "    .dataframe tbody tr th {\n",
       "        vertical-align: top;\n",
       "    }\n",
       "\n",
       "    .dataframe thead th {\n",
       "        text-align: right;\n",
       "    }\n",
       "</style>\n",
       "<table border=\"1\" class=\"dataframe\">\n",
       "  <thead>\n",
       "    <tr style=\"text-align: right;\">\n",
       "      <th></th>\n",
       "      <th>mod1_indx</th>\n",
       "      <th>mod2_indx</th>\n",
       "      <th>score</th>\n",
       "    </tr>\n",
       "  </thead>\n",
       "  <tbody>\n",
       "    <tr>\n",
       "      <th>0</th>\n",
       "      <td>126314</td>\n",
       "      <td>1</td>\n",
       "      <td>0.652540</td>\n",
       "    </tr>\n",
       "    <tr>\n",
       "      <th>1</th>\n",
       "      <td>36091</td>\n",
       "      <td>4</td>\n",
       "      <td>0.634329</td>\n",
       "    </tr>\n",
       "    <tr>\n",
       "      <th>2</th>\n",
       "      <td>68154</td>\n",
       "      <td>5</td>\n",
       "      <td>0.685863</td>\n",
       "    </tr>\n",
       "    <tr>\n",
       "      <th>3</th>\n",
       "      <td>31319</td>\n",
       "      <td>6</td>\n",
       "      <td>0.614404</td>\n",
       "    </tr>\n",
       "    <tr>\n",
       "      <th>4</th>\n",
       "      <td>60132</td>\n",
       "      <td>8</td>\n",
       "      <td>0.674731</td>\n",
       "    </tr>\n",
       "    <tr>\n",
       "      <th>...</th>\n",
       "      <td>...</td>\n",
       "      <td>...</td>\n",
       "      <td>...</td>\n",
       "    </tr>\n",
       "    <tr>\n",
       "      <th>174808</th>\n",
       "      <td>119106</td>\n",
       "      <td>210771</td>\n",
       "      <td>0.584052</td>\n",
       "    </tr>\n",
       "    <tr>\n",
       "      <th>174809</th>\n",
       "      <td>84629</td>\n",
       "      <td>210777</td>\n",
       "      <td>0.581069</td>\n",
       "    </tr>\n",
       "    <tr>\n",
       "      <th>174810</th>\n",
       "      <td>95888</td>\n",
       "      <td>210778</td>\n",
       "      <td>0.725783</td>\n",
       "    </tr>\n",
       "    <tr>\n",
       "      <th>174811</th>\n",
       "      <td>76036</td>\n",
       "      <td>210779</td>\n",
       "      <td>0.316699</td>\n",
       "    </tr>\n",
       "    <tr>\n",
       "      <th>174812</th>\n",
       "      <td>43547</td>\n",
       "      <td>210781</td>\n",
       "      <td>0.559079</td>\n",
       "    </tr>\n",
       "  </tbody>\n",
       "</table>\n",
       "<p>174813 rows × 3 columns</p>\n",
       "</div>"
      ],
      "text/plain": [
       "        mod1_indx  mod2_indx     score\n",
       "0          126314          1  0.652540\n",
       "1           36091          4  0.634329\n",
       "2           68154          5  0.685863\n",
       "3           31319          6  0.614404\n",
       "4           60132          8  0.674731\n",
       "...           ...        ...       ...\n",
       "174808     119106     210771  0.584052\n",
       "174809      84629     210777  0.581069\n",
       "174810      95888     210778  0.725783\n",
       "174811      76036     210779  0.316699\n",
       "174812      43547     210781  0.559079\n",
       "\n",
       "[174813 rows x 3 columns]"
      ]
     },
     "execution_count": 60,
     "metadata": {},
     "output_type": "execute_result"
    }
   ],
   "source": [
    "pd.DataFrame(list(zip(full_matching[0], full_matching[1], full_matching[2])), \n",
    "             columns = ['mod1_indx', 'mod2_indx', 'score'])\n",
    "# columns: cell idx in mod1, cell idx in mod2, and matching scores"
   ]
  },
  {
   "cell_type": "code",
   "execution_count": 62,
   "metadata": {},
   "outputs": [],
   "source": [
    "df_res = pd.DataFrame(list(zip(full_matching[0], full_matching[1], full_matching[2])), \n",
    "             columns = ['mod1_indx', 'mod2_indx', 'score'])\n",
    "df_res.to_csv('crc_codex_rna.csv', index=False)"
   ]
  }
 ],
 "metadata": {
  "kernelspec": {
   "display_name": "Python 3 (ipykernel)",
   "language": "python",
   "name": "python3"
  },
  "language_info": {
   "codemirror_mode": {
    "name": "ipython",
    "version": 3
   },
   "file_extension": ".py",
   "mimetype": "text/x-python",
   "name": "python",
   "nbconvert_exporter": "python",
   "pygments_lexer": "ipython3",
   "version": "3.9.15"
  }
 },
 "nbformat": 4,
 "nbformat_minor": 4
}
