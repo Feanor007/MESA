{
 "cells": [
  {
   "cell_type": "markdown",
   "metadata": {},
   "source": [
    "# Example-2 of MaxFuse usage between RNA and Protein modality."
   ]
  },
  {
   "cell_type": "code",
   "execution_count": 1,
   "metadata": {
    "scrolled": true
   },
   "outputs": [
    {
     "name": "stderr",
     "output_type": "stream",
     "text": [
      "/Users/daisyding/opt/miniconda3/envs/omics/lib/python3.9/site-packages/tqdm/auto.py:22: TqdmWarning: IProgress not found. Please update jupyter and ipywidgets. See https://ipywidgets.readthedocs.io/en/stable/user_install.html\n",
      "  from .autonotebook import tqdm as notebook_tqdm\n"
     ]
    }
   ],
   "source": [
    "import numpy as np\n",
    "import pandas as pd\n",
    "from scipy.io import mmread\n",
    "\n",
    "import matplotlib.pyplot as plt\n",
    "plt.rcParams[\"figure.figsize\"] = (6, 4)\n",
    "\n",
    "from sklearn.metrics import confusion_matrix, ConfusionMatrixDisplay\n",
    "\n",
    "import anndata as ad\n",
    "import scanpy as sc\n",
    "import maxfuse as mf\n",
    "\n",
    "import seaborn as sns\n",
    "import os\n",
    "\n",
    "import warnings\n",
    "warnings.filterwarnings('error', category=DeprecationWarning)"
   ]
  },
  {
   "cell_type": "markdown",
   "metadata": {},
   "source": [
    "## Data preprocessing"
   ]
  },
  {
   "cell_type": "code",
   "execution_count": 2,
   "metadata": {},
   "outputs": [],
   "source": [
    "# read in protein data\n",
    "data_dir = './../../../neighborhood/CRC_related/'\n",
    "protein = pd.read_csv(os.path.join(data_dir, 'crc_codex/CRC_clusters_neighborhoods_markersV2.csv')) # ~258,000 codex cells"
   ]
  },
  {
   "cell_type": "markdown",
   "metadata": {},
   "source": [
    "# Remove tumor cells in CODEX and some other cells"
   ]
  },
  {
   "cell_type": "code",
   "execution_count": 3,
   "metadata": {},
   "outputs": [
    {
     "name": "stderr",
     "output_type": "stream",
     "text": [
      "/var/folders/p9/l9_cp9p96kg_0zk6v9v47ly00000gn/T/ipykernel_83294/2113247179.py:10: SettingWithCopyWarning: \n",
      "A value is trying to be set on a copy of a slice from a DataFrame.\n",
      "Try using .loc[row_indexer,col_indexer] = value instead\n",
      "\n",
      "See the caveats in the documentation: https://pandas.pydata.org/pandas-docs/stable/user_guide/indexing.html#returning-a-view-versus-a-copy\n",
      "  protein_new['ClusterNameV3'] = protein_new['ClusterNameV2'].map(di)\n"
     ]
    }
   ],
   "source": [
    "protein_new = protein[protein['ClusterName'] != 'tumor cells']\n",
    "\n",
    "di = {'macrophages': \"Macro\", 'smooth muscle': \"SmoothMuscle\", 'granulocytes': \"Granulo\",\n",
    "      'stroma': \"Fibro\", 'B cells': \"B\", 'CD4+ T cells': \"TCD4\", 'CD8+ T cells': \"TCD8\", 'plasma cells': \"Plasma\",\n",
    "      'CD68+ macrophages': \"Macro\", 'CD11b+ monocytes': \"Mono\", 'CD11c+ DCs': \"DC\", 'NK cells': \"NK\",\n",
    "     'remove': \"remove\", 'vasculature': \"Endo\", 'immune cells': \"Other\", 'Other T cells': \"Other\", # remove or need to change\n",
    "     'immune cells / vasculature': \"Other\", 'adipocytes': \"Other\",\n",
    "      'tumor cells / immune cells': \"Other\",  'nerves': \"Other\", 'lymphatics': \"Other\"}\n",
    "\n",
    "protein_new['ClusterNameV3'] = protein_new['ClusterNameV2'].map(di)\n",
    "protein_new = protein_new[protein_new['ClusterNameV3'] != 'remove']\n",
    "#protein_new.ClusterNameV3.value_counts()"
   ]
  },
  {
   "cell_type": "code",
   "execution_count": 69,
   "metadata": {},
   "outputs": [
    {
     "data": {
      "text/plain": [
       "array(['B cells', 'CD11b+ monocytes', 'CD11b+CD68+ macrophages',\n",
       "       'CD11c+ DCs', 'CD163+ macrophages', 'CD3+ T cells', 'CD4+ T cells',\n",
       "       'CD4+ T cells CD45RO+', 'CD4+ T cells GATA3+', 'CD68+ macrophages',\n",
       "       'CD68+ macrophages GzmB+', 'CD68+CD163+ macrophages',\n",
       "       'CD8+ T cells', 'NK cells', 'Tregs', 'adipocytes', 'dirt',\n",
       "       'granulocytes', 'immune cells', 'immune cells / vasculature',\n",
       "       'lymphatics', 'nerves', 'plasma cells', 'smooth muscle', 'stroma',\n",
       "       'tumor cells', 'tumor cells / immune cells', 'undefined',\n",
       "       'vasculature'], dtype=object)"
      ]
     },
     "execution_count": 69,
     "metadata": {},
     "output_type": "execute_result"
    }
   ],
   "source": [
    "np.unique(protein['ClusterName'])"
   ]
  },
  {
   "cell_type": "code",
   "execution_count": 4,
   "metadata": {},
   "outputs": [],
   "source": [
    "protein_b = protein_new[protein_new['ClusterNameV3'] == 'B']"
   ]
  },
  {
   "cell_type": "code",
   "execution_count": 5,
   "metadata": {},
   "outputs": [
    {
     "data": {
      "text/plain": [
       "(13043, 102)"
      ]
     },
     "execution_count": 5,
     "metadata": {},
     "output_type": "execute_result"
    }
   ],
   "source": [
    "protein_b.shape"
   ]
  },
  {
   "cell_type": "markdown",
   "metadata": {},
   "source": [
    "# Rename protein"
   ]
  },
  {
   "cell_type": "code",
   "execution_count": 7,
   "metadata": {},
   "outputs": [],
   "source": [
    "protein_features = list(protein.columns[13:62]) + list(protein.columns[70:79])\n",
    "protein_new_exp = protein_b[protein_features]"
   ]
  },
  {
   "cell_type": "code",
   "execution_count": 8,
   "metadata": {},
   "outputs": [
    {
     "data": {
      "text/plain": [
       "(13043, 58)"
      ]
     },
     "execution_count": 8,
     "metadata": {},
     "output_type": "execute_result"
    }
   ],
   "source": [
    "protein_new_exp.shape"
   ]
  },
  {
   "cell_type": "code",
   "execution_count": 10,
   "metadata": {},
   "outputs": [],
   "source": [
    "import re\n",
    "protein_new_exp = protein_new_exp.rename(columns=lambda x: re.sub(' -.*','',x))"
   ]
  },
  {
   "cell_type": "code",
   "execution_count": 11,
   "metadata": {},
   "outputs": [],
   "source": [
    "# convert to AnnData\n",
    "protein_adata = ad.AnnData(\n",
    "    protein_new_exp.to_numpy(), dtype=np.float32\n",
    ")\n",
    "protein_adata.var_names = protein_new_exp.columns"
   ]
  },
  {
   "cell_type": "code",
   "execution_count": 12,
   "metadata": {},
   "outputs": [
    {
     "data": {
      "text/plain": [
       "(13043, 58)"
      ]
     },
     "execution_count": 12,
     "metadata": {},
     "output_type": "execute_result"
    }
   ],
   "source": [
    "protein_adata.X.shape"
   ]
  },
  {
   "cell_type": "markdown",
   "metadata": {},
   "source": [
    "# Remove tumor cells in RNA"
   ]
  },
  {
   "cell_type": "code",
   "execution_count": 13,
   "metadata": {},
   "outputs": [
    {
     "name": "stderr",
     "output_type": "stream",
     "text": [
      "/Users/daisyding/opt/miniconda3/envs/omics/lib/python3.9/site-packages/scanpy/readwrite.py:281: FutureWarning: X.dtype being converted to np.float32 from float64. In the next version of anndata (0.9) conversion will not be automatic. Pass dtype explicitly to avoid this warning. Pass `AnnData(X, dtype=X.dtype, ...)` to get the future behavour.\n",
      "  adata = AnnData(\n",
      "/Users/daisyding/opt/miniconda3/envs/omics/lib/python3.9/site-packages/anndata/_core/anndata.py:1830: UserWarning: Variable names are not unique. To make them unique, call `.var_names_make_unique`.\n",
      "  utils.warn_names_duplicates(\"var\")\n"
     ]
    }
   ],
   "source": [
    "data_dir = './../../../neighborhood/CRC_related/'\n",
    "counts = sc.read_10x_h5(os.path.join(data_dir, 'hacohen_scrna/data/GSE178341_crc10x_full_c295v4_submit.h5'))"
   ]
  },
  {
   "cell_type": "code",
   "execution_count": 14,
   "metadata": {},
   "outputs": [],
   "source": [
    "cluster = pd.read_csv(os.path.join(data_dir, 'hacohen_scrna/data/GSE178341_crc10x_full_c295v4_submit_cluster.csv'))\n",
    "#cluster.head()"
   ]
  },
  {
   "cell_type": "code",
   "execution_count": 15,
   "metadata": {},
   "outputs": [],
   "source": [
    "cancer_cell_index = cluster[cluster.clMidwayPr == 'Epi'].index"
   ]
  },
  {
   "cell_type": "code",
   "execution_count": 24,
   "metadata": {},
   "outputs": [],
   "source": [
    "b_cell_index = cluster[cluster.clMidwayPr == 'B'].index"
   ]
  },
  {
   "cell_type": "code",
   "execution_count": 22,
   "metadata": {},
   "outputs": [
    {
     "data": {
      "text/plain": [
       "array(['B', 'DC', 'Endo', 'Epi', 'Fibro', 'Granulo', 'ILC', 'Macro',\n",
       "       'Mast', 'Mono', 'NK', 'Peri', 'Plasma', 'Schwann', 'SmoothMuscle',\n",
       "       'TCD4', 'TCD8', 'TZBTB16', 'Tgd'], dtype=object)"
      ]
     },
     "execution_count": 22,
     "metadata": {},
     "output_type": "execute_result"
    }
   ],
   "source": [
    "np.unique(cluster.clMidwayPr)"
   ]
  },
  {
   "cell_type": "markdown",
   "metadata": {},
   "source": [
    "# Remove normal tissues in RNA"
   ]
  },
  {
   "cell_type": "code",
   "execution_count": 16,
   "metadata": {},
   "outputs": [],
   "source": [
    "metapat = pd.read_csv(os.path.join(data_dir,'hacohen_scrna/data/GSE178341_crc10x_full_c295v4_submit_metatables.csv'))"
   ]
  },
  {
   "cell_type": "code",
   "execution_count": 17,
   "metadata": {},
   "outputs": [],
   "source": [
    "normal_tissue_index = metapat[metapat.HistologicTypeSimple == 'Normal colon'].index"
   ]
  },
  {
   "cell_type": "code",
   "execution_count": 27,
   "metadata": {},
   "outputs": [
    {
     "data": {
      "text/plain": [
       "Int64Index([ 12263,  12264,  12265,  12266,  12267,  12268,  12269,  12270,\n",
       "             12271,  12272,\n",
       "            ...\n",
       "            339661, 339662, 339663, 339664, 339665, 339666, 339667, 339668,\n",
       "            339669, 339670],\n",
       "           dtype='int64', length=112864)"
      ]
     },
     "execution_count": 27,
     "metadata": {},
     "output_type": "execute_result"
    }
   ],
   "source": [
    "normal_tissue_index"
   ]
  },
  {
   "cell_type": "code",
   "execution_count": 18,
   "metadata": {},
   "outputs": [],
   "source": [
    "#rows_to_remove = list(cancer_cell_index) + list(normal_tissue_index)"
   ]
  },
  {
   "cell_type": "code",
   "execution_count": 30,
   "metadata": {},
   "outputs": [
    {
     "name": "stderr",
     "output_type": "stream",
     "text": [
      "Filtering rows: 100%|██████████████████| 370115/370115 [13:05<00:00, 470.89it/s]\n"
     ]
    }
   ],
   "source": [
    "from tqdm import tqdm\n",
    "filtered_rows = []\n",
    "for i in tqdm(range(counts.n_obs), desc=\"Filtering rows\"):\n",
    "    #if i not in rows_to_remove:\n",
    "    if (i in list(b_cell_index)) and (i not in list(normal_tissue_index)):\n",
    "        filtered_rows.append(i)"
   ]
  },
  {
   "cell_type": "code",
   "execution_count": 31,
   "metadata": {},
   "outputs": [],
   "source": [
    "b_adata = counts[filtered_rows, :]"
   ]
  },
  {
   "cell_type": "code",
   "execution_count": 32,
   "metadata": {},
   "outputs": [
    {
     "data": {
      "text/plain": [
       "View of AnnData object with n_obs × n_vars = 13543 × 43113\n",
       "    var: 'gene_ids', 'feature_types', 'genome'"
      ]
     },
     "execution_count": 32,
     "metadata": {},
     "output_type": "execute_result"
    }
   ],
   "source": [
    "b_adata"
   ]
  },
  {
   "cell_type": "code",
   "execution_count": 20,
   "metadata": {},
   "outputs": [],
   "source": [
    "filtered_adata = counts[filtered_rows, :]"
   ]
  },
  {
   "cell_type": "code",
   "execution_count": 26,
   "metadata": {},
   "outputs": [
    {
     "data": {
      "text/plain": [
       "View of AnnData object with n_obs × n_vars = 144035 × 43113\n",
       "    var: 'gene_ids', 'feature_types', 'genome'"
      ]
     },
     "execution_count": 26,
     "metadata": {},
     "output_type": "execute_result"
    }
   ],
   "source": [
    "filtered_adata #144035 x 43113"
   ]
  },
  {
   "cell_type": "code",
   "execution_count": 33,
   "metadata": {},
   "outputs": [],
   "source": [
    "rna_adata = b_adata"
   ]
  },
  {
   "cell_type": "code",
   "execution_count": 34,
   "metadata": {},
   "outputs": [
    {
     "name": "stderr",
     "output_type": "stream",
     "text": [
      "/Users/daisyding/opt/miniconda3/envs/omics/lib/python3.9/site-packages/anndata/utils.py:111: UserWarning: Suffix used (-[0-9]+) to deduplicate index values may make index values difficult to interpret. There values with a similar suffixes in the index. Consider using a different delimiter by passing `join={delimiter}`Example key collisions generated by the make_index_unique algorithm: ['SNORD116-1', 'SNORD116-2', 'SNORD116-3', 'SNORD116-5', 'SNORD116-6']\n",
      "  warnings.warn(\n",
      "/Users/daisyding/opt/miniconda3/envs/omics/lib/python3.9/site-packages/anndata/_core/anndata.py:1830: UserWarning: Variable names are not unique. To make them unique, call `.var_names_make_unique`.\n",
      "  utils.warn_names_duplicates(\"var\")\n"
     ]
    }
   ],
   "source": [
    "rna_adata.var_names_make_unique()"
   ]
  },
  {
   "cell_type": "code",
   "execution_count": 35,
   "metadata": {},
   "outputs": [],
   "source": [
    "rna_adata.write(os.path.join(data_dir, \"hacohen_scrna/data/rna_processed_bcell_0307.h5\"))"
   ]
  },
  {
   "cell_type": "markdown",
   "metadata": {},
   "source": [
    "### Get labels"
   ]
  },
  {
   "cell_type": "code",
   "execution_count": 36,
   "metadata": {},
   "outputs": [
    {
     "name": "stderr",
     "output_type": "stream",
     "text": [
      "/var/folders/p9/l9_cp9p96kg_0zk6v9v47ly00000gn/T/ipykernel_83294/1540601711.py:9: SettingWithCopyWarning: \n",
      "A value is trying to be set on a copy of a slice from a DataFrame.\n",
      "Try using .loc[row_indexer,col_indexer] = value instead\n",
      "\n",
      "See the caveats in the documentation: https://pandas.pydata.org/pandas-docs/stable/user_guide/indexing.html#returning-a-view-versus-a-copy\n",
      "  filtered_meta['clMidwayPrV2'] = filtered_meta['clMidwayPr'].map(di)\n"
     ]
    },
    {
     "data": {
      "text/plain": [
       "B    13543\n",
       "Name: clMidwayPrV2, dtype: int64"
      ]
     },
     "execution_count": 36,
     "metadata": {},
     "output_type": "execute_result"
    }
   ],
   "source": [
    "filtered_meta = cluster.iloc[filtered_rows, :]\n",
    "di = {'Macro': \"Macro\", 'SmoothMuscle': \"SmoothMuscle\", 'Granulo': \"Granulo\",\n",
    "      'Fibro': \"Fibro\", 'B': \"B\", 'TCD4': \"TCD4\", 'TCD8': \"TCD8\", 'Plasma': \"Plasma\",\n",
    "      'Macro': \"Macro\", 'Mono': \"Mono\", 'DC': \"DC\", 'NK': \"NK\",\n",
    "     'Tgd': \"Other\", 'Endo': \"Endo\", 'TZBTB16': \"Other\", 'Mast': \"Other\", # remove or need to change\n",
    "     'Peri': \"Other\", 'ILC': \"Other\",\n",
    "      'Schwann': \"Other\"}\n",
    "\n",
    "filtered_meta['clMidwayPrV2'] = filtered_meta['clMidwayPr'].map(di)\n",
    "\n",
    "filtered_meta.clMidwayPrV2.value_counts()"
   ]
  },
  {
   "cell_type": "markdown",
   "metadata": {},
   "source": [
    "# Name conversion between protein and RNA"
   ]
  },
  {
   "cell_type": "code",
   "execution_count": 37,
   "metadata": {},
   "outputs": [
    {
     "data": {
      "text/html": [
       "<div>\n",
       "<style scoped>\n",
       "    .dataframe tbody tr th:only-of-type {\n",
       "        vertical-align: middle;\n",
       "    }\n",
       "\n",
       "    .dataframe tbody tr th {\n",
       "        vertical-align: top;\n",
       "    }\n",
       "\n",
       "    .dataframe thead th {\n",
       "        text-align: right;\n",
       "    }\n",
       "</style>\n",
       "<table border=\"1\" class=\"dataframe\">\n",
       "  <thead>\n",
       "    <tr style=\"text-align: right;\">\n",
       "      <th></th>\n",
       "      <th>Protein name</th>\n",
       "      <th>RNA name</th>\n",
       "    </tr>\n",
       "  </thead>\n",
       "  <tbody>\n",
       "    <tr>\n",
       "      <th>0</th>\n",
       "      <td>CD80</td>\n",
       "      <td>CD80</td>\n",
       "    </tr>\n",
       "    <tr>\n",
       "      <th>1</th>\n",
       "      <td>CD86</td>\n",
       "      <td>CD86</td>\n",
       "    </tr>\n",
       "    <tr>\n",
       "      <th>2</th>\n",
       "      <td>CD274</td>\n",
       "      <td>CD274</td>\n",
       "    </tr>\n",
       "    <tr>\n",
       "      <th>3</th>\n",
       "      <td>CD273</td>\n",
       "      <td>PDCD1LG2</td>\n",
       "    </tr>\n",
       "    <tr>\n",
       "      <th>4</th>\n",
       "      <td>CD275</td>\n",
       "      <td>ICOSLG</td>\n",
       "    </tr>\n",
       "  </tbody>\n",
       "</table>\n",
       "</div>"
      ],
      "text/plain": [
       "  Protein name  RNA name\n",
       "0         CD80      CD80\n",
       "1         CD86      CD86\n",
       "2        CD274     CD274\n",
       "3        CD273  PDCD1LG2\n",
       "4        CD275    ICOSLG"
      ]
     },
     "execution_count": 37,
     "metadata": {},
     "output_type": "execute_result"
    }
   ],
   "source": [
    "correspondence = pd.read_csv(os.path.join(data_dir, 'pro_rna_conv_0615_23.csv'))\n",
    "#correspondence = pd.read_csv('./../CRC_related/protein_rna_name_conversionV8.csv')\n",
    "correspondence.head()"
   ]
  },
  {
   "cell_type": "code",
   "execution_count": 38,
   "metadata": {},
   "outputs": [],
   "source": [
    "rna_protein_correspondence = []\n",
    "\n",
    "for i in range(correspondence.shape[0]):\n",
    "    curr_protein_name, curr_rna_names = correspondence.iloc[i]\n",
    "    if curr_protein_name not in protein_adata.var_names:\n",
    "        continue\n",
    "    if curr_rna_names.find('Ignore') != -1: # some correspondence ignored eg. protein isoform to one gene\n",
    "        continue\n",
    "    curr_rna_names = curr_rna_names.split('/') # eg. one protein to multiple genes\n",
    "    for r in curr_rna_names:\n",
    "        if r in rna_adata.var_names:\n",
    "            rna_protein_correspondence.append([r, curr_protein_name])\n",
    "            \n",
    "rna_protein_correspondence = np.array(rna_protein_correspondence)"
   ]
  },
  {
   "cell_type": "code",
   "execution_count": 39,
   "metadata": {},
   "outputs": [
    {
     "name": "stdout",
     "output_type": "stream",
     "text": [
      "[(13543, 60), (13043, 60)]\n"
     ]
    },
    {
     "name": "stderr",
     "output_type": "stream",
     "text": [
      "/Users/daisyding/opt/miniconda3/envs/omics/lib/python3.9/site-packages/anndata/_core/anndata.py:1830: UserWarning: Variable names are not unique. To make them unique, call `.var_names_make_unique`.\n",
      "  utils.warn_names_duplicates(\"var\")\n",
      "/Users/daisyding/opt/miniconda3/envs/omics/lib/python3.9/site-packages/anndata/_core/anndata.py:1830: UserWarning: Variable names are not unique. To make them unique, call `.var_names_make_unique`.\n",
      "  utils.warn_names_duplicates(\"var\")\n"
     ]
    }
   ],
   "source": [
    "# Columns rna_shared and protein_shared are matched.\n",
    "# One may encounter \"Variable names are not unique\" warning,\n",
    "# this is fine and is because one RNA may encode multiple proteins and vice versa.\n",
    "rna_shared = rna_adata[:, rna_protein_correspondence[:, 0]].copy()\n",
    "protein_shared = protein_adata[:, rna_protein_correspondence[:, 1]].copy()\n",
    "print([rna_shared.shape,protein_shared.shape])"
   ]
  },
  {
   "cell_type": "code",
   "execution_count": 40,
   "metadata": {},
   "outputs": [
    {
     "name": "stdout",
     "output_type": "stream",
     "text": [
      "[(13543, 58), (13043, 58)]\n"
     ]
    }
   ],
   "source": [
    "# Make sure no column is static\n",
    "mask = (\n",
    "    (rna_shared.X.toarray().std(axis=0) > 0.01) \n",
    "    & (protein_shared.X.std(axis=0) > 0.01)\n",
    ")\n",
    "rna_shared = rna_shared[:, mask].copy()\n",
    "protein_shared = protein_shared[:, mask].copy()\n",
    "print([rna_shared.shape,protein_shared.shape])"
   ]
  },
  {
   "cell_type": "code",
   "execution_count": 41,
   "metadata": {},
   "outputs": [
    {
     "name": "stderr",
     "output_type": "stream",
     "text": [
      "/Users/daisyding/opt/miniconda3/envs/omics/lib/python3.9/site-packages/scanpy/preprocessing/_normalization.py:197: UserWarning: Some cells have zero counts\n",
      "  warn(UserWarning('Some cells have zero counts'))\n"
     ]
    }
   ],
   "source": [
    "# process rna_shared\n",
    "sc.pp.normalize_total(rna_shared)\n",
    "sc.pp.log1p(rna_shared)\n",
    "sc.pp.scale(rna_shared)\n",
    "rna_shared = rna_shared.X.copy()"
   ]
  },
  {
   "cell_type": "code",
   "execution_count": 42,
   "metadata": {},
   "outputs": [],
   "source": [
    "sc.pp.log1p(protein_shared)\n",
    "sc.pp.scale(protein_shared)\n",
    "protein_shared = protein_shared.X.copy()"
   ]
  },
  {
   "cell_type": "code",
   "execution_count": 43,
   "metadata": {},
   "outputs": [],
   "source": [
    "# process all RNA features\n",
    "sc.pp.normalize_total(rna_adata)\n",
    "sc.pp.log1p(rna_adata)\n",
    "sc.pp.highly_variable_genes(rna_adata, n_top_genes=5000)\n",
    "# only retain highly variable genes\n",
    "rna_adata = rna_adata[:, rna_adata.var.highly_variable].copy()\n",
    "sc.pp.scale(rna_adata)"
   ]
  },
  {
   "cell_type": "code",
   "execution_count": 44,
   "metadata": {},
   "outputs": [],
   "source": [
    "# process all protein features\n",
    "sc.pp.log1p(protein_adata)\n",
    "sc.pp.scale(protein_adata)"
   ]
  },
  {
   "cell_type": "code",
   "execution_count": 45,
   "metadata": {},
   "outputs": [],
   "source": [
    "# make sure no feature is static\n",
    "rna_active = rna_adata.X\n",
    "protein_active = protein_adata.X\n",
    "rna_active = rna_active[:, rna_active.std(axis=0) > 1e-5] # these are fine since already using variable features\n",
    "protein_active = protein_active[:, protein_active.std(axis=0) > 1e-5] # protein are generally variable"
   ]
  },
  {
   "cell_type": "markdown",
   "metadata": {},
   "source": [
    "## Get subset numbers for better speed"
   ]
  },
  {
   "cell_type": "code",
   "execution_count": 28,
   "metadata": {},
   "outputs": [],
   "source": [
    "#indx1 = np.random.choice(rna_active.shape[0], 18000)\n",
    "#indx2 = np.random.choice(protein_active.shape[0], 35000)"
   ]
  },
  {
   "cell_type": "markdown",
   "metadata": {},
   "source": [
    "## Fitting MaxFuse"
   ]
  },
  {
   "cell_type": "markdown",
   "metadata": {},
   "source": [
    "### Step I: preparations"
   ]
  },
  {
   "cell_type": "code",
   "execution_count": 46,
   "metadata": {},
   "outputs": [],
   "source": [
    "# call constructor for Fusor object\n",
    "# which is the main object for running MaxFuse pipeline\n",
    "fusor = mf.model.Fusor(\n",
    "    shared_arr1=rna_shared,\n",
    "    shared_arr2=protein_shared,\n",
    "    active_arr1=rna_active,\n",
    "    active_arr2=protein_active,\n",
    "    labels1=None,\n",
    "    labels2=None\n",
    ")"
   ]
  },
  {
   "cell_type": "code",
   "execution_count": 29,
   "metadata": {},
   "outputs": [],
   "source": [
    "# call constructor for Fusor object\n",
    "# which is the main object for running MaxFuse pipeline\n",
    "#fusor = mf.model.Fusor(\n",
    "#    shared_arr1=rna_shared[indx1,:],\n",
    "#    shared_arr2=protein_shared[indx2,:],\n",
    "#    active_arr1=rna_active[indx1,:],\n",
    "#    active_arr2=protein_active[indx2,:],\n",
    "#    labels1=None,\n",
    "#    labels2=None\n",
    "#)"
   ]
  },
  {
   "cell_type": "code",
   "execution_count": 47,
   "metadata": {},
   "outputs": [
    {
     "name": "stdout",
     "output_type": "stream",
     "text": [
      "The first data is split into 2 batches, average batch size is 6771, and max batch size is 6772.\n",
      "The second data is split into 1 batches, average batch size is 13043, and max batch size is 13043.\n",
      "Batch to batch correspondence is:\n",
      "  ['0<->0', '1<->0'].\n"
     ]
    }
   ],
   "source": [
    "fusor.split_into_batches(\n",
    "    max_outward_size=8000,\n",
    "    matching_ratio=4,\n",
    "    metacell_size=2,\n",
    "    verbose=True\n",
    ")"
   ]
  },
  {
   "cell_type": "code",
   "execution_count": 48,
   "metadata": {},
   "outputs": [
    {
     "data": {
      "text/plain": [
       "(<Figure size 600x400 with 1 Axes>,\n",
       " <Axes: title={'center': 'Singular value v.s. component index for batch 0'}, xlabel='Index', ylabel='Singular value'>)"
      ]
     },
     "execution_count": 48,
     "metadata": {},
     "output_type": "execute_result"
    },
    {
     "data": {
      "image/png": "[encoded data removed]",
      "text/plain": [
       "<Figure size 600x400 with 1 Axes>"
      ]
     },
     "metadata": {},
     "output_type": "display_data"
    }
   ],
   "source": [
    "# plot top singular values of avtive_arr1 on a random batch\n",
    "fusor.plot_singular_values(\n",
    "    target='active_arr1',\n",
    "    n_components=None # can also explicitly specify the number of components\n",
    ")"
   ]
  },
  {
   "cell_type": "code",
   "execution_count": 49,
   "metadata": {},
   "outputs": [
    {
     "data": {
      "text/plain": [
       "(<Figure size 600x400 with 1 Axes>,\n",
       " <Axes: title={'center': 'Singular value v.s. component index for batch 0'}, xlabel='Index', ylabel='Singular value'>)"
      ]
     },
     "execution_count": 49,
     "metadata": {},
     "output_type": "execute_result"
    },
    {
     "data": {
      "image/png": "[encoded data removed]",
      "text/plain": [
       "<Figure size 600x400 with 1 Axes>"
      ]
     },
     "metadata": {},
     "output_type": "display_data"
    }
   ],
   "source": [
    "# plot top singular values of avtive_arr2 on a random batch\n",
    "fusor.plot_singular_values(\n",
    "    target='active_arr2',\n",
    "    n_components=None\n",
    ")"
   ]
  },
  {
   "cell_type": "code",
   "execution_count": 50,
   "metadata": {},
   "outputs": [
    {
     "name": "stdout",
     "output_type": "stream",
     "text": [
      "Aggregating cells in arr1 into metacells of average size 2...\n",
      "Constructing neighborhood graphs for cells in arr1...\n",
      "Now at batch 0...\n",
      "Now at batch 1...\n",
      "Graph construction finished!\n",
      "Clustering into metacells...\n",
      "Now at batch 0...\n",
      "Metacell clustering finished!\n",
      "Now at batch 1...\n",
      "Metacell clustering finished!\n",
      "Constructing neighborhood graphs for cells in arr1...\n",
      "Now at batch 0...\n",
      "Now at batch 1...\n",
      "Graph construction finished!\n",
      "Clustering the graphs for cells in arr1...\n",
      "Now at batch 0...\n",
      "Now at batch 1...\n",
      "Graph clustering finished!\n",
      "Constructing neighborhood graphs for cells in arr2...\n",
      "Now at batch 0...\n",
      "Graph construction finished!\n",
      "Clustering the graphs for cells in arr2...\n",
      "Now at batch 0...\n",
      "Graph clustering finished!\n"
     ]
    }
   ],
   "source": [
    "fusor.construct_graphs(\n",
    "    n_neighbors1=15,\n",
    "    n_neighbors2=15,\n",
    "    svd_components1=45,\n",
    "    svd_components2=40,\n",
    "    resolution1=2,\n",
    "    resolution2=2,\n",
    "    # if two resolutions differ less than resolution_tol\n",
    "    # then we do not distinguish between then\n",
    "    resolution_tol=0.1,\n",
    "    verbose=True\n",
    ")"
   ]
  },
  {
   "cell_type": "markdown",
   "metadata": {},
   "source": [
    "### Step II: finding initial pivots"
   ]
  },
  {
   "cell_type": "code",
   "execution_count": 51,
   "metadata": {},
   "outputs": [
    {
     "data": {
      "text/plain": [
       "(<Figure size 600x400 with 1 Axes>,\n",
       " <Axes: title={'center': 'Singular value v.s. component index for batch 1'}, xlabel='Index', ylabel='Singular value'>)"
      ]
     },
     "execution_count": 51,
     "metadata": {},
     "output_type": "execute_result"
    },
    {
     "data": {
      "image/png": "[encoded data removed]",
      "text/plain": [
       "<Figure size 600x400 with 1 Axes>"
      ]
     },
     "metadata": {},
     "output_type": "display_data"
    }
   ],
   "source": [
    "# plot top singular values of shared_arr1 on a random batch\n",
    "fusor.plot_singular_values(\n",
    "    target='shared_arr1',\n",
    "    n_components=None,\n",
    ")"
   ]
  },
  {
   "cell_type": "code",
   "execution_count": 52,
   "metadata": {},
   "outputs": [
    {
     "data": {
      "text/plain": [
       "(<Figure size 600x400 with 1 Axes>,\n",
       " <Axes: title={'center': 'Singular value v.s. component index for batch 0'}, xlabel='Index', ylabel='Singular value'>)"
      ]
     },
     "execution_count": 52,
     "metadata": {},
     "output_type": "execute_result"
    },
    {
     "data": {
      "image/png": "[encoded data removed]",
      "text/plain": [
       "<Figure size 600x400 with 1 Axes>"
      ]
     },
     "metadata": {},
     "output_type": "display_data"
    }
   ],
   "source": [
    "# plot top singular values of shared_arr2 on a random batch\n",
    "fusor.plot_singular_values(\n",
    "    target='shared_arr2',\n",
    "    n_components=None\n",
    ")"
   ]
  },
  {
   "cell_type": "code",
   "execution_count": 53,
   "metadata": {},
   "outputs": [
    {
     "name": "stdout",
     "output_type": "stream",
     "text": [
      "Now at batch 0<->0...\n",
      "Now at batch 1<->0...\n",
      "Done!\n"
     ]
    }
   ],
   "source": [
    "fusor.find_initial_pivots(\n",
    "    wt1=0.3, wt2=0.3,\n",
    "    svd_components1=53, svd_components2=53\n",
    ")"
   ]
  },
  {
   "cell_type": "markdown",
   "metadata": {},
   "source": [
    "### Step III: finding refined pivots"
   ]
  },
  {
   "cell_type": "code",
   "execution_count": 54,
   "metadata": {},
   "outputs": [
    {
     "data": {
      "text/plain": [
       "(<Figure size 600x400 with 1 Axes>,\n",
       " <Axes: title={'center': 'Canonical correlation v.s. component index for batch 1<->0'}, xlabel='Index', ylabel='Canonical correlation'>)"
      ]
     },
     "execution_count": 54,
     "metadata": {},
     "output_type": "execute_result"
    },
    {
     "data": {
      "image/png": "[encoded data removed]",
      "text/plain": [
       "<Figure size 600x400 with 1 Axes>"
      ]
     },
     "metadata": {},
     "output_type": "display_data"
    }
   ],
   "source": [
    "# plot top canonical correlations in a random batch\n",
    "fusor.plot_canonical_correlations(\n",
    "    svd_components1=50,\n",
    "    svd_components2=None,\n",
    "    cca_components=45\n",
    ")"
   ]
  },
  {
   "cell_type": "code",
   "execution_count": 55,
   "metadata": {},
   "outputs": [
    {
     "name": "stdout",
     "output_type": "stream",
     "text": [
      "Now at batch 0<->0...\n",
      "Now at batch 1<->0...\n",
      "Done!\n"
     ]
    }
   ],
   "source": [
    "fusor.refine_pivots(\n",
    "    wt1=0.3, wt2=0.3,\n",
    "    svd_components1=50, svd_components2=None,\n",
    "    cca_components=30,\n",
    "    n_iters=1,\n",
    "    randomized_svd=False, \n",
    "    svd_runs=1,\n",
    "    verbose=True\n",
    ")"
   ]
  },
  {
   "cell_type": "code",
   "execution_count": 56,
   "metadata": {},
   "outputs": [
    {
     "name": "stdout",
     "output_type": "stream",
     "text": [
      "Begin filtering...\n",
      "Now at batch 0<->0...\n",
      "Now at batch 1<->0...\n",
      "4736/6767 pairs of matched cells remain after the filtering.\n",
      "Fitting CCA on pivots...\n",
      "Scoring matched pairs...\n",
      "9567/13543 cells in arr1 are selected as pivots.\n",
      "3519/13043 cells in arr2 are selected as pivots.\n",
      "Done!\n"
     ]
    }
   ],
   "source": [
    "fusor.filter_bad_matches(target='pivot', filter_prop=0.3)"
   ]
  },
  {
   "cell_type": "markdown",
   "metadata": {},
   "source": [
    "**Note:** Since we have the `refine_pivots` now, we can theoratically co-embedding the *full* dataset into CCA space (as described in `tutorial-1`). **However**, in the case that invovles *low-snr* datasets (eg. spatial-omics), we do not suggest projecting all the cells into a common space without any filtering steps. We will describe this process after the `propogation` step."
   ]
  },
  {
   "cell_type": "markdown",
   "metadata": {},
   "source": [
    "### Step IV: propagation"
   ]
  },
  {
   "cell_type": "markdown",
   "metadata": {},
   "source": [
    "Refined pivots can only give us a pivot matching that captures a subset of cells. In order to get a *full* matching that involves all cells during input, we need to call `propagate`.\n"
   ]
  },
  {
   "cell_type": "code",
   "execution_count": 58,
   "metadata": {},
   "outputs": [
    {
     "name": "stdout",
     "output_type": "stream",
     "text": [
      "Now at batch 0<->0...\n",
      "Now at batch 1<->0...\n",
      "Done!\n"
     ]
    }
   ],
   "source": [
    "fusor.propagate(\n",
    "    svd_components1=50, \n",
    "    svd_components2=None, \n",
    "    wt1=0.7,\n",
    "    wt2=0.7,\n",
    ")"
   ]
  },
  {
   "cell_type": "markdown",
   "metadata": {},
   "source": [
    "We call `filter_bad_matches` with `target=propagated` to optionally filter away a few matched pairs from propagation. \n",
    "\n",
    "**Note:** In the best scenario, we would prefer all cells in the *full* dataset can be matched accross modality. However, in the case that invovles *low-snr* datasets (eg. spatial-omics), many cells are noisy (or lack of information) and should not be included in downstream cross-modality analysis. We suggest in such scenarios, `filter_prop` should be set around *0.1-0.4*."
   ]
  },
  {
   "cell_type": "code",
   "execution_count": 59,
   "metadata": {},
   "outputs": [
    {
     "name": "stdout",
     "output_type": "stream",
     "text": [
      "Begin filtering...\n",
      "Now at batch 0<->0...\n",
      "Now at batch 1<->0...\n",
      "16367/23381 pairs of matched cells remain after the filtering.\n",
      "Scoring matched pairs...\n",
      "Done!\n"
     ]
    }
   ],
   "source": [
    "fusor.filter_bad_matches(\n",
    "    target='propagated',\n",
    "    filter_prop=0.3\n",
    ")"
   ]
  },
  {
   "cell_type": "markdown",
   "metadata": {},
   "source": [
    "We use `get_matching` with `target='full_data'` to extract the full matching.\n",
    "\n",
    "Because of the batching operation, the resulting matching may contain duplicates. The `order` argument determines how those duplicates are dealt with. \n",
    "`order=None` means doing nothing and returning the matching with potential duplicates;\n",
    "`order=(1, 2)` means returning a matching where each cell in the first modality contains *at least one match* in the second modality;\n",
    "`order=(2, 1)` means returning a matching where each cell in the second modality contains *at least one match* in the first modality.\n",
    "\n",
    "**Note:** Since we filtered out some cell pairs here, not all cells in the full dataset has matches."
   ]
  },
  {
   "cell_type": "code",
   "execution_count": 60,
   "metadata": {},
   "outputs": [],
   "source": [
    "full_matching = fusor.get_matching(order=(2, 1), target='full_data')"
   ]
  },
  {
   "cell_type": "code",
   "execution_count": 61,
   "metadata": {},
   "outputs": [
    {
     "data": {
      "text/plain": [
       "10526"
      ]
     },
     "execution_count": 61,
     "metadata": {},
     "output_type": "execute_result"
    }
   ],
   "source": [
    "len(full_matching[0])"
   ]
  },
  {
   "cell_type": "markdown",
   "metadata": {},
   "source": [
    "Since we are doing `order=(2, 1)` here, the matching info is all the cells (10k) in mod 2 (protein) has at least one match cell in the RNA modality. Note that the matched cell in RNA could be duplicated, as protein cells could be matched to the same RNA cell. For a quick check on matching format:"
   ]
  },
  {
   "cell_type": "code",
   "execution_count": 62,
   "metadata": {},
   "outputs": [
    {
     "data": {
      "text/html": [
       "<div>\n",
       "<style scoped>\n",
       "    .dataframe tbody tr th:only-of-type {\n",
       "        vertical-align: middle;\n",
       "    }\n",
       "\n",
       "    .dataframe tbody tr th {\n",
       "        vertical-align: top;\n",
       "    }\n",
       "\n",
       "    .dataframe thead th {\n",
       "        text-align: right;\n",
       "    }\n",
       "</style>\n",
       "<table border=\"1\" class=\"dataframe\">\n",
       "  <thead>\n",
       "    <tr style=\"text-align: right;\">\n",
       "      <th></th>\n",
       "      <th>mod1_indx</th>\n",
       "      <th>mod2_indx</th>\n",
       "      <th>score</th>\n",
       "    </tr>\n",
       "  </thead>\n",
       "  <tbody>\n",
       "    <tr>\n",
       "      <th>0</th>\n",
       "      <td>3246</td>\n",
       "      <td>2</td>\n",
       "      <td>0.637149</td>\n",
       "    </tr>\n",
       "    <tr>\n",
       "      <th>1</th>\n",
       "      <td>3685</td>\n",
       "      <td>3</td>\n",
       "      <td>0.448013</td>\n",
       "    </tr>\n",
       "    <tr>\n",
       "      <th>2</th>\n",
       "      <td>3661</td>\n",
       "      <td>7</td>\n",
       "      <td>0.643117</td>\n",
       "    </tr>\n",
       "    <tr>\n",
       "      <th>3</th>\n",
       "      <td>11679</td>\n",
       "      <td>8</td>\n",
       "      <td>0.317980</td>\n",
       "    </tr>\n",
       "    <tr>\n",
       "      <th>4</th>\n",
       "      <td>4677</td>\n",
       "      <td>11</td>\n",
       "      <td>0.322706</td>\n",
       "    </tr>\n",
       "    <tr>\n",
       "      <th>...</th>\n",
       "      <td>...</td>\n",
       "      <td>...</td>\n",
       "      <td>...</td>\n",
       "    </tr>\n",
       "    <tr>\n",
       "      <th>10521</th>\n",
       "      <td>2942</td>\n",
       "      <td>13023</td>\n",
       "      <td>0.273986</td>\n",
       "    </tr>\n",
       "    <tr>\n",
       "      <th>10522</th>\n",
       "      <td>5550</td>\n",
       "      <td>13030</td>\n",
       "      <td>0.527909</td>\n",
       "    </tr>\n",
       "    <tr>\n",
       "      <th>10523</th>\n",
       "      <td>2368</td>\n",
       "      <td>13032</td>\n",
       "      <td>0.438263</td>\n",
       "    </tr>\n",
       "    <tr>\n",
       "      <th>10524</th>\n",
       "      <td>5759</td>\n",
       "      <td>13033</td>\n",
       "      <td>0.434364</td>\n",
       "    </tr>\n",
       "    <tr>\n",
       "      <th>10525</th>\n",
       "      <td>8799</td>\n",
       "      <td>13040</td>\n",
       "      <td>0.230406</td>\n",
       "    </tr>\n",
       "  </tbody>\n",
       "</table>\n",
       "<p>10526 rows × 3 columns</p>\n",
       "</div>"
      ],
      "text/plain": [
       "       mod1_indx  mod2_indx     score\n",
       "0           3246          2  0.637149\n",
       "1           3685          3  0.448013\n",
       "2           3661          7  0.643117\n",
       "3          11679          8  0.317980\n",
       "4           4677         11  0.322706\n",
       "...          ...        ...       ...\n",
       "10521       2942      13023  0.273986\n",
       "10522       5550      13030  0.527909\n",
       "10523       2368      13032  0.438263\n",
       "10524       5759      13033  0.434364\n",
       "10525       8799      13040  0.230406\n",
       "\n",
       "[10526 rows x 3 columns]"
      ]
     },
     "execution_count": 62,
     "metadata": {},
     "output_type": "execute_result"
    }
   ],
   "source": [
    "pd.DataFrame(list(zip(full_matching[0], full_matching[1], full_matching[2])), \n",
    "             columns = ['mod1_indx', 'mod2_indx', 'score'])\n",
    "# columns: cell idx in mod1, cell idx in mod2, and matching scores"
   ]
  },
  {
   "cell_type": "code",
   "execution_count": 63,
   "metadata": {},
   "outputs": [
    {
     "data": {
      "text/plain": [
       "(array([  13.,   30.,  189.,  668., 1693., 2841., 2791., 1633.,  542.,\n",
       "         126.]),\n",
       " array([-0.33515793, -0.20798037, -0.0808028 ,  0.04637477,  0.17355233,\n",
       "         0.3007299 ,  0.42790746,  0.55508503,  0.68226259,  0.80944016,\n",
       "         0.93661772]),\n",
       " <BarContainer object of 10 artists>)"
      ]
     },
     "execution_count": 63,
     "metadata": {},
     "output_type": "execute_result"
    },
    {
     "data": {
      "image/png": "[encoded data removed]",
      "text/plain": [
       "<Figure size 600x400 with 1 Axes>"
      ]
     },
     "metadata": {},
     "output_type": "display_data"
    }
   ],
   "source": [
    "plt.hist(full_matching[2])"
   ]
  },
  {
   "cell_type": "code",
   "execution_count": 64,
   "metadata": {},
   "outputs": [],
   "source": [
    "df_res = pd.DataFrame(list(zip(full_matching[0], full_matching[1], full_matching[2])), \n",
    "             columns = ['mod1_indx', 'mod2_indx', 'score'])\n",
    "df_res.to_csv('./results/crc_codex_rna_b_cell_0307.csv', index=False)"
   ]
  },
  {
   "cell_type": "code",
   "execution_count": 53,
   "metadata": {},
   "outputs": [
    {
     "data": {
      "text/plain": [
       "196900"
      ]
     },
     "execution_count": 53,
     "metadata": {},
     "output_type": "execute_result"
    }
   ],
   "source": [
    "np.max(df_res['mod2_indx'])"
   ]
  },
  {
   "cell_type": "code",
   "execution_count": null,
   "metadata": {},
   "outputs": [],
   "source": []
  }
 ],
 "metadata": {
  "kernelspec": {
   "display_name": "Python 3 (ipykernel)",
   "language": "python",
   "name": "python3"
  },
  "language_info": {
   "codemirror_mode": {
    "name": "ipython",
    "version": 3
   },
   "file_extension": ".py",
   "mimetype": "text/x-python",
   "name": "python",
   "nbconvert_exporter": "python",
   "pygments_lexer": "ipython3",
   "version": "3.9.15"
  }
 },
 "nbformat": 4,
 "nbformat_minor": 4
}
