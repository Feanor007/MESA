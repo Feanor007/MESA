{
 "cells": [
  {
   "cell_type": "markdown",
   "id": "7f362f87-93a8-4499-b583-62b12b696e50",
   "metadata": {},
   "source": [
    "# Use MESA in R"
   ]
  },
  {
   "cell_type": "markdown",
   "id": "05563e9a-aa7c-4931-94b9-0e92bdc7fe06",
   "metadata": {},
   "source": [
    "## Load Packages"
   ]
  },
  {
   "cell_type": "raw",
   "id": "3980d2d8-3c56-4a5e-b10b-0d031b5a98cd",
   "metadata": {},
   "source": [
    "library(reticulate)\n",
    "library(dplyr)\n",
    "library(ggplot2)\n",
    "library(ggbeeswarm)"
   ]
  },
  {
   "cell_type": "markdown",
   "id": "87aeac5f-2b9e-4a6f-b4ae-87432cf08e83",
   "metadata": {},
   "source": [
    "## Read and prepare data "
   ]
  },
  {
   "cell_type": "raw",
   "id": "0589c807-f7c5-473f-83df-dc3bc0712b44",
   "metadata": {},
   "source": [
    "eco <- import(\"mesa.ecospatial\")\n",
    "ad <- import(\"anndata\")\n",
    "adata <- ad$read_h5ad('/Users/Emrys/Dropbox/spatial_augmentation/data/codex_mouse_spleen/codex_mouse_spleen.h5ad')\n",
    "adata$obsm['spatial'] <- adata$obsm['spatial'] / 1000\n",
    "library_ids <- unique(adata$obs[['sample']])\n",
    "library_ids <- as.vector(library_ids) "
   ]
  },
  {
   "cell_type": "markdown",
   "id": "71ba89e7-2a6b-4038-ad6f-d15e28ce93c5",
   "metadata": {},
   "source": [
    "## Calculate MDI"
   ]
  },
  {
   "cell_type": "raw",
   "id": "406a865c-38e0-4d31-90a1-e00c623db51c",
   "metadata": {},
   "source": [
    "# Calculate MDI (Multiscale Diversity Index)\n",
    "scales <- c(1.0, 2.0, 4.0, 8.0, 16.0, 32.0, 64.0)\n",
    "result <- eco$multiscale_diversity(spatial_data = adata,\n",
    "                                   scales = scales,\n",
    "                                   library_key = 'sample',\n",
    "                                   library_ids = library_ids,\n",
    "                                   spatial_key = 'spatial',\n",
    "                                   cluster_key = 'cell_type',\n",
    "                                   random_patch = FALSE,\n",
    "                                   plotfigs = FALSE,\n",
    "                                   savefigs = FALSE,\n",
    "                                   patch_kwargs = dict(random_seed = NULL, min_points = 2),\n",
    "                                   other_kwargs = dict(metric = 'Shannon Diversity'))\n",
    "mdi_results <- as.data.frame(t(result[[2]]))\n",
    "colnames(mdi_results) <- c(\"MDI\")\n",
    "\n",
    "# Add columns for 'Condition' and 'Sample_id'\n",
    "mdi_results$Condition <- NA\n",
    "mdi_results$Sample_id <- rownames(mdi_results)\n",
    "\n",
    "# Assign 'Condition' based on 'Sample_id'\n",
    "mdi_results <- mdi_results %>%\n",
    "  mutate(Condition = case_when(\n",
    "    grepl('BALBc', Sample_id) ~ 'BALBc',\n",
    "    grepl('MRL', Sample_id) ~ 'MRL',\n",
    "    TRUE ~ 'Other'\n",
    "  ))\n",
    "\n",
    "# Subset data for the two conditions\n",
    "mdi_balbc <- mdi_results %>% filter(Condition == 'BALBc') %>% pull(MDI)\n",
    "mdi_mrl <- mdi_results %>% filter(Condition == 'MRL') %>% pull(MDI)"
   ]
  },
  {
   "cell_type": "markdown",
   "id": "442e970b-d1ec-467d-8d9a-403e9b8cda7b",
   "metadata": {},
   "source": [
    "## Perform statistical test and plot results"
   ]
  },
  {
   "cell_type": "raw",
   "id": "dadafea0-1acf-4544-ac86-5bd90a22a79d",
   "metadata": {},
   "source": [
    "# Perform Welch's t-test\n",
    "t_test_result <- t.test(mdi_balbc, mdi_mrl, var.equal = FALSE)\n",
    "p_value <- t_test_result$p.value\n",
    "\n",
    "# Create boxplot with swarmplot overlay\n",
    "p <- ggplot(mdi_results, aes(x = Condition, y = MDI, fill = Condition)) + \n",
    "  geom_boxplot(outlier.shape = NA) +    # Boxplot without outliers\n",
    "  geom_beeswarm(aes(color = Condition), size = 2, alpha = 0.6) +  # Swarm plot\n",
    "  labs(title = \"MDI Results by Condition\", x = \"Condition\", y = \"Multiscale Diversity Index (MDI)\") + \n",
    "  theme_minimal() + annotate(\"text\", x = 1.5, y = max(mdi_results$MDI) + 0.1, \n",
    "                             label = paste0(\"p = \", round(p_value, 3)), size = 5, color = \"black\")\n",
    "print(p)"
   ]
  }
 ],
 "metadata": {
  "kernelspec": {
   "display_name": "Python3.11 (mesa)",
   "language": "python",
   "name": "python311_mesa"
  },
  "language_info": {
   "codemirror_mode": {
    "name": "ipython",
    "version": 3
   },
   "file_extension": ".py",
   "mimetype": "text/x-python",
   "name": "python",
   "nbconvert_exporter": "python",
   "pygments_lexer": "ipython3",
   "version": "3.11.3"
  }
 },
 "nbformat": 4,
 "nbformat_minor": 5
}
